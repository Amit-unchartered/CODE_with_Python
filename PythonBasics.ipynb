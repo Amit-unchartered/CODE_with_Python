{
 "cells": [
  {
   "cell_type": "code",
   "execution_count": 9,
   "id": "d6afa3c0",
   "metadata": {},
   "outputs": [
    {
     "name": "stdout",
     "output_type": "stream",
     "text": [
      "Hello World\n"
     ]
    }
   ],
   "source": [
    "print(\"Hello World\")"
   ]
  },
  {
   "cell_type": "markdown",
   "id": "b0b6bcd2-8be4-46e5-a139-8a7df8d9b21f",
   "metadata": {},
   "source": [
    "# This is all about Python Basics"
   ]
  },
  {
   "cell_type": "code",
   "execution_count": 10,
   "id": "98a823d1-d714-40ed-ac13-603ec48fc3c0",
   "metadata": {},
   "outputs": [
    {
     "name": "stdout",
     "output_type": "stream",
     "text": [
      "Interactive namespace is empty.\n"
     ]
    }
   ],
   "source": [
    "%whos"
   ]
  },
  {
   "cell_type": "markdown",
   "id": "962f7d88-a223-46d3-8c96-59841157c48a",
   "metadata": {},
   "source": [
    "    ####this is our first program in python: It is just started here"
   ]
  },
  {
   "cell_type": "markdown",
   "id": "7fa80f10-b9b9-49b7-afd4-f66bc729ac08",
   "metadata": {},
   "source": [
    "$a=b+c$"
   ]
  },
  {
   "cell_type": "code",
   "execution_count": null,
   "id": "a39d22a5",
   "metadata": {},
   "outputs": [],
   "source": [
    "int x=3"
   ]
  },
  {
   "cell_type": "code",
   "execution_count": 59,
   "id": "3d10db34",
   "metadata": {},
   "outputs": [
    {
     "name": "stdout",
     "output_type": "stream",
     "text": [
      "Variable   Type     Data/Info\n",
      "-----------------------------\n",
      "G          tuple    n=2\n",
      "a          int      3\n",
      "b          int      5\n",
      "c          bool     True\n",
      "d          bool     False\n",
      "f          int      -3\n",
      "r          int      -3\n",
      "s          str      hellow world\n",
      "s1         str      hellow\n",
      "s2         str       world\n",
      "t          bool     False\n",
      "x          int      4\n",
      "y          int      9\n",
      "z          float    8.3\n"
     ]
    }
   ],
   "source": [
    "%whos"
   ]
  },
  {
   "cell_type": "code",
   "execution_count": null,
   "id": "a96c3545",
   "metadata": {},
   "outputs": [],
   "source": [
    "x = 5.7"
   ]
  },
  {
   "cell_type": "code",
   "execution_count": null,
   "id": "b5ec38ec",
   "metadata": {},
   "outputs": [],
   "source": [
    "%whos"
   ]
  },
  {
   "cell_type": "code",
   "execution_count": null,
   "id": "0c8cbee0",
   "metadata": {},
   "outputs": [],
   "source": [
    "print(type(x))"
   ]
  },
  {
   "cell_type": "code",
   "execution_count": null,
   "id": "817a2c24",
   "metadata": {},
   "outputs": [],
   "source": [
    "abcd = 556.32"
   ]
  },
  {
   "cell_type": "code",
   "execution_count": null,
   "id": "610fdcd8",
   "metadata": {},
   "outputs": [],
   "source": [
    "%whos"
   ]
  },
  {
   "cell_type": "code",
   "execution_count": 13,
   "id": "42ffaeb5",
   "metadata": {},
   "outputs": [],
   "source": [
    "a,b,c,d,f = 3,5,6.0,7.2,-3"
   ]
  },
  {
   "cell_type": "code",
   "execution_count": 14,
   "id": "bd28356d",
   "metadata": {},
   "outputs": [
    {
     "name": "stdout",
     "output_type": "stream",
     "text": [
      "Variable   Type     Data/Info\n",
      "-----------------------------\n",
      "a          int      3\n",
      "b          int      5\n",
      "c          float    6.0\n",
      "d          float    7.2\n",
      "f          int      -3\n"
     ]
    }
   ],
   "source": [
    "%whos"
   ]
  },
  {
   "cell_type": "markdown",
   "id": "8f6e37e2",
   "metadata": {},
   "source": [
    "# %whos check the status of memory"
   ]
  },
  {
   "cell_type": "code",
   "execution_count": 15,
   "id": "4aef49ea",
   "metadata": {},
   "outputs": [
    {
     "ename": "NameError",
     "evalue": "name 'abcd' is not defined",
     "output_type": "error",
     "traceback": [
      "\u001b[0;31m---------------------------------------------------------------------------\u001b[0m",
      "\u001b[0;31mNameError\u001b[0m                                 Traceback (most recent call last)",
      "Cell \u001b[0;32mIn[15], line 1\u001b[0m\n\u001b[0;32m----> 1\u001b[0m \u001b[38;5;28;01mdel\u001b[39;00m abcd\n",
      "\u001b[0;31mNameError\u001b[0m: name 'abcd' is not defined"
     ]
    }
   ],
   "source": [
    "del abcd"
   ]
  },
  {
   "cell_type": "markdown",
   "id": "94a59f31",
   "metadata": {},
   "source": [
    "    ### del argument deletes it."
   ]
  },
  {
   "cell_type": "code",
   "execution_count": null,
   "id": "92bb19a2",
   "metadata": {},
   "outputs": [],
   "source": [
    "print(abcd)"
   ]
  },
  {
   "cell_type": "markdown",
   "id": "01f016df",
   "metadata": {},
   "source": [
    "#### since we have deleted it"
   ]
  },
  {
   "cell_type": "code",
   "execution_count": null,
   "id": "396aa39d",
   "metadata": {},
   "outputs": [],
   "source": [
    "s = \"hello how are you\""
   ]
  },
  {
   "cell_type": "code",
   "execution_count": null,
   "id": "2f46ee2a",
   "metadata": {},
   "outputs": [],
   "source": [
    "print(type(s))"
   ]
  },
  {
   "cell_type": "code",
   "execution_count": null,
   "id": "0493449c",
   "metadata": {},
   "outputs": [],
   "source": [
    "%whos"
   ]
  },
  {
   "cell_type": "markdown",
   "id": "4c37de57",
   "metadata": {},
   "source": [
    "# python is a dynamically typed language \n",
    "dont need to define the type of vartiable"
   ]
  },
  {
   "cell_type": "markdown",
   "id": "6b4b7fe0",
   "metadata": {},
   "source": [
    "# Operators"
   ]
  },
  {
   "cell_type": "code",
   "execution_count": null,
   "id": "f9aff287",
   "metadata": {},
   "outputs": [],
   "source": [
    "%whos"
   ]
  },
  {
   "cell_type": "code",
   "execution_count": null,
   "id": "c91093c0",
   "metadata": {},
   "outputs": [],
   "source": [
    "sumOfAandB = a + b"
   ]
  },
  {
   "cell_type": "code",
   "execution_count": null,
   "id": "41365240",
   "metadata": {},
   "outputs": [],
   "source": [
    "print(sumOfAandB)"
   ]
  },
  {
   "cell_type": "code",
   "execution_count": null,
   "id": "8a2d1f8e",
   "metadata": {},
   "outputs": [],
   "source": [
    "type(sumOfAandB)"
   ]
  },
  {
   "cell_type": "code",
   "execution_count": 16,
   "id": "66d13152",
   "metadata": {},
   "outputs": [
    {
     "data": {
      "text/plain": [
       "float"
      ]
     },
     "execution_count": 16,
     "metadata": {},
     "output_type": "execute_result"
    }
   ],
   "source": [
    "type(a+d)"
   ]
  },
  {
   "cell_type": "markdown",
   "id": "94ab97da",
   "metadata": {},
   "source": [
    "### types are upcasted to super set"
   ]
  },
  {
   "cell_type": "code",
   "execution_count": 17,
   "id": "c0e998a5",
   "metadata": {},
   "outputs": [
    {
     "data": {
      "text/plain": [
       "265.30199999999996"
      ]
     },
     "execution_count": 17,
     "metadata": {},
     "output_type": "execute_result"
    }
   ],
   "source": [
    "((a+d)**3)/4"
   ]
  },
  {
   "cell_type": "code",
   "execution_count": 18,
   "id": "464fad4d",
   "metadata": {},
   "outputs": [
    {
     "name": "stdout",
     "output_type": "stream",
     "text": [
      "hellow world\n"
     ]
    }
   ],
   "source": [
    "s1 = \"hellow\"\n",
    "s2 = \" world\"\n",
    "s = s1 + s2\n",
    "print(s)"
   ]
  },
  {
   "cell_type": "code",
   "execution_count": 19,
   "id": "6a169670",
   "metadata": {},
   "outputs": [
    {
     "data": {
      "text/plain": [
       "3"
      ]
     },
     "execution_count": 19,
     "metadata": {},
     "output_type": "execute_result"
    }
   ],
   "source": [
    "10//3"
   ]
  },
  {
   "cell_type": "code",
   "execution_count": 20,
   "id": "6be1fda0",
   "metadata": {},
   "outputs": [
    {
     "data": {
      "text/plain": [
       "3.3333333333333335"
      ]
     },
     "execution_count": 20,
     "metadata": {},
     "output_type": "execute_result"
    }
   ],
   "source": [
    "10/3"
   ]
  },
  {
   "cell_type": "markdown",
   "id": "99343b55",
   "metadata": {},
   "source": [
    "### if we don't assign result in the particular variable, by default the last unstored value is stored in _"
   ]
  },
  {
   "cell_type": "code",
   "execution_count": 21,
   "id": "75ffbf87",
   "metadata": {},
   "outputs": [
    {
     "data": {
      "text/plain": [
       "3.3333333333333335"
      ]
     },
     "execution_count": 21,
     "metadata": {},
     "output_type": "execute_result"
    }
   ],
   "source": [
    "_"
   ]
  },
  {
   "cell_type": "code",
   "execution_count": 22,
   "id": "5b04c530",
   "metadata": {},
   "outputs": [
    {
     "ename": "SyntaxError",
     "evalue": "invalid decimal literal (3013961758.py, line 1)",
     "output_type": "error",
     "traceback": [
      "\u001b[0;36m  Cell \u001b[0;32mIn[22], line 1\u001b[0;36m\u001b[0m\n\u001b[0;31m    3x = 4\u001b[0m\n\u001b[0m    ^\u001b[0m\n\u001b[0;31mSyntaxError\u001b[0m\u001b[0;31m:\u001b[0m invalid decimal literal\n"
     ]
    }
   ],
   "source": [
    "3x = 4 "
   ]
  },
  {
   "cell_type": "code",
   "execution_count": null,
   "id": "7e490771",
   "metadata": {},
   "outputs": [],
   "source": [
    "@y = 43"
   ]
  },
  {
   "cell_type": "code",
   "execution_count": null,
   "id": "c874284e",
   "metadata": {},
   "outputs": [],
   "source": [
    "_e = 7"
   ]
  },
  {
   "cell_type": "code",
   "execution_count": null,
   "id": "28ce4a2f",
   "metadata": {},
   "outputs": [],
   "source": [
    "%whos"
   ]
  },
  {
   "cell_type": "markdown",
   "id": "b0adc6b0",
   "metadata": {},
   "source": [
    "# camel casing"
   ]
  },
  {
   "cell_type": "code",
   "execution_count": null,
   "id": "16900d8f",
   "metadata": {},
   "outputs": [],
   "source": [
    "startingTimeOfCourse = 2.0"
   ]
  },
  {
   "cell_type": "code",
   "execution_count": null,
   "id": "ee9c9f83",
   "metadata": {},
   "outputs": [],
   "source": [
    "%whos"
   ]
  },
  {
   "cell_type": "markdown",
   "id": "45f2fe5c",
   "metadata": {},
   "source": [
    "#### variables can't start with special characters or digits except underscore _"
   ]
  },
  {
   "cell_type": "code",
   "execution_count": null,
   "id": "47ed0844",
   "metadata": {},
   "outputs": [],
   "source": [
    "a = True\n",
    "b = True\n",
    "c = False"
   ]
  },
  {
   "cell_type": "code",
   "execution_count": 62,
   "id": "708f59d9",
   "metadata": {},
   "outputs": [
    {
     "name": "stdout",
     "output_type": "stream",
     "text": [
      "Variable   Type     Data/Info\n",
      "-----------------------------\n",
      "G          tuple    n=2\n",
      "a          int      3\n",
      "b          int      5\n",
      "c          bool     True\n",
      "d          bool     False\n",
      "f          int      -3\n",
      "r          int      -3\n",
      "s          str      hellow world\n",
      "s1         str      hellow\n",
      "s2         str       world\n",
      "t          bool     False\n",
      "x          str      12\n",
      "y          int      9\n",
      "z          float    8.3\n"
     ]
    }
   ],
   "source": [
    "%whos"
   ]
  },
  {
   "cell_type": "code",
   "execution_count": 24,
   "id": "94a564cd",
   "metadata": {},
   "outputs": [
    {
     "name": "stdout",
     "output_type": "stream",
     "text": [
      "5\n",
      "6.0\n",
      "3\n"
     ]
    }
   ],
   "source": [
    "print(a and b)\n",
    "print(a and c)\n",
    "print(c and a)"
   ]
  },
  {
   "cell_type": "code",
   "execution_count": 25,
   "id": "6abdcf91",
   "metadata": {},
   "outputs": [
    {
     "name": "stdout",
     "output_type": "stream",
     "text": [
      "3\n"
     ]
    }
   ],
   "source": [
    "d = a or c\n",
    "print(d)"
   ]
  },
  {
   "cell_type": "code",
   "execution_count": 26,
   "id": "4467643a",
   "metadata": {},
   "outputs": [
    {
     "name": "stdout",
     "output_type": "stream",
     "text": [
      "False\n"
     ]
    }
   ],
   "source": [
    "print(not(a))\n"
   ]
  },
  {
   "cell_type": "code",
   "execution_count": 27,
   "id": "235a2649",
   "metadata": {},
   "outputs": [
    {
     "data": {
      "text/plain": [
       "False"
      ]
     },
     "execution_count": 27,
     "metadata": {},
     "output_type": "execute_result"
    }
   ],
   "source": [
    "not(b)"
   ]
  },
  {
   "cell_type": "code",
   "execution_count": 28,
   "id": "826579f5",
   "metadata": {},
   "outputs": [
    {
     "data": {
      "text/plain": [
       "False"
      ]
     },
     "execution_count": 28,
     "metadata": {},
     "output_type": "execute_result"
    }
   ],
   "source": [
    "not(c)"
   ]
  },
  {
   "cell_type": "code",
   "execution_count": 29,
   "id": "f8d85884",
   "metadata": {},
   "outputs": [],
   "source": [
    "t = not(d)"
   ]
  },
  {
   "cell_type": "code",
   "execution_count": 30,
   "id": "5591a323",
   "metadata": {},
   "outputs": [
    {
     "data": {
      "text/plain": [
       "bool"
      ]
     },
     "execution_count": 30,
     "metadata": {},
     "output_type": "execute_result"
    }
   ],
   "source": [
    "type(t)"
   ]
  },
  {
   "cell_type": "code",
   "execution_count": 31,
   "id": "1592c13d",
   "metadata": {},
   "outputs": [
    {
     "name": "stdout",
     "output_type": "stream",
     "text": [
      "False\n"
     ]
    }
   ],
   "source": [
    "print(t)"
   ]
  },
  {
   "cell_type": "code",
   "execution_count": 32,
   "id": "265adc52",
   "metadata": {},
   "outputs": [
    {
     "data": {
      "text/plain": [
       "False"
      ]
     },
     "execution_count": 32,
     "metadata": {},
     "output_type": "execute_result"
    }
   ],
   "source": [
    "not((a and b) or (c or d))"
   ]
  },
  {
   "cell_type": "code",
   "execution_count": 33,
   "id": "516141d8",
   "metadata": {},
   "outputs": [
    {
     "name": "stdout",
     "output_type": "stream",
     "text": [
      "Variable   Type     Data/Info\n",
      "-----------------------------\n",
      "a          int      3\n",
      "b          int      5\n",
      "c          float    6.0\n",
      "d          int      3\n",
      "f          int      -3\n",
      "s          str      hellow world\n",
      "s1         str      hellow\n",
      "s2         str       world\n",
      "t          bool     False\n"
     ]
    }
   ],
   "source": [
    "%whos"
   ]
  },
  {
   "cell_type": "code",
   "execution_count": 34,
   "id": "0d3a125c",
   "metadata": {},
   "outputs": [
    {
     "name": "stdout",
     "output_type": "stream",
     "text": [
      "True\n"
     ]
    }
   ],
   "source": [
    "print(2<3)"
   ]
  },
  {
   "cell_type": "code",
   "execution_count": 35,
   "id": "63775b98",
   "metadata": {},
   "outputs": [
    {
     "name": "stdout",
     "output_type": "stream",
     "text": [
      "<class 'bool'>\n",
      "True\n"
     ]
    }
   ],
   "source": [
    "c = 2<3\n",
    "print(type(c))\n",
    "print(c)"
   ]
  },
  {
   "cell_type": "code",
   "execution_count": 36,
   "id": "976c6736",
   "metadata": {},
   "outputs": [
    {
     "name": "stdout",
     "output_type": "stream",
     "text": [
      "False\n"
     ]
    }
   ],
   "source": [
    "d = 3==4\n",
    "print(d)"
   ]
  },
  {
   "cell_type": "code",
   "execution_count": 37,
   "id": "b0d4d857",
   "metadata": {},
   "outputs": [
    {
     "data": {
      "text/plain": [
       "True"
      ]
     },
     "execution_count": 37,
     "metadata": {},
     "output_type": "execute_result"
    }
   ],
   "source": [
    "3==3.0"
   ]
  },
  {
   "cell_type": "code",
   "execution_count": 38,
   "id": "8d6976f7",
   "metadata": {},
   "outputs": [],
   "source": [
    "x = 4\n",
    "y = 9\n",
    "z = 8.3\n",
    "r = -3"
   ]
  },
  {
   "cell_type": "code",
   "execution_count": 39,
   "id": "b3507543",
   "metadata": {},
   "outputs": [
    {
     "data": {
      "text/plain": [
       "True"
      ]
     },
     "execution_count": 39,
     "metadata": {},
     "output_type": "execute_result"
    }
   ],
   "source": [
    "(x<y)"
   ]
  },
  {
   "cell_type": "code",
   "execution_count": 40,
   "id": "5645da3d",
   "metadata": {},
   "outputs": [
    {
     "data": {
      "text/plain": [
       "True"
      ]
     },
     "execution_count": 40,
     "metadata": {},
     "output_type": "execute_result"
    }
   ],
   "source": [
    "(z<y)"
   ]
  },
  {
   "cell_type": "code",
   "execution_count": 41,
   "id": "cfd94328",
   "metadata": {},
   "outputs": [
    {
     "data": {
      "text/plain": [
       "True"
      ]
     },
     "execution_count": 41,
     "metadata": {},
     "output_type": "execute_result"
    }
   ],
   "source": [
    "(x<y) and (z<y) or (r==x)"
   ]
  },
  {
   "cell_type": "markdown",
   "id": "aca9d025",
   "metadata": {},
   "source": [
    "### and is solved first then or is solved for better"
   ]
  },
  {
   "cell_type": "code",
   "execution_count": 42,
   "id": "6a6cc67e",
   "metadata": {},
   "outputs": [
    {
     "data": {
      "text/plain": [
       "True"
      ]
     },
     "execution_count": 42,
     "metadata": {},
     "output_type": "execute_result"
    }
   ],
   "source": [
    "True or False and True"
   ]
  },
  {
   "cell_type": "code",
   "execution_count": 43,
   "id": "5e6e575a",
   "metadata": {},
   "outputs": [
    {
     "name": "stdout",
     "output_type": "stream",
     "text": [
      "False\n"
     ]
    }
   ],
   "source": [
    "print((not(2!=3)) or (False and True))"
   ]
  },
  {
   "cell_type": "markdown",
   "id": "1112ce4a",
   "metadata": {},
   "source": [
    "# Some Useful Functions"
   ]
  },
  {
   "cell_type": "code",
   "execution_count": 44,
   "id": "9831fe1d",
   "metadata": {},
   "outputs": [
    {
     "name": "stdout",
     "output_type": "stream",
     "text": [
      "5\n"
     ]
    }
   ],
   "source": [
    "print(round(4.556))"
   ]
  },
  {
   "cell_type": "markdown",
   "id": "eb88d623",
   "metadata": {},
   "source": [
    "    #### It rounds off to the nearest number"
   ]
  },
  {
   "cell_type": "code",
   "execution_count": 45,
   "id": "38440121",
   "metadata": {},
   "outputs": [
    {
     "name": "stdout",
     "output_type": "stream",
     "text": [
      "4.56\n"
     ]
    }
   ],
   "source": [
    "print(round(4.556,2))"
   ]
  },
  {
   "cell_type": "markdown",
   "id": "7994b98a",
   "metadata": {},
   "source": [
    "    #### It rounds  upto the second decimal place ,i.e the n specified after number"
   ]
  },
  {
   "cell_type": "code",
   "execution_count": 46,
   "id": "22486be6",
   "metadata": {},
   "outputs": [
    {
     "data": {
      "text/plain": [
       "(5, 2)"
      ]
     },
     "execution_count": 46,
     "metadata": {},
     "output_type": "execute_result"
    }
   ],
   "source": [
    " divmod(27,5)"
   ]
  },
  {
   "cell_type": "markdown",
   "id": "0c9fb22c",
   "metadata": {},
   "source": [
    "    #### it reutrns the quotient and the remainder after dividing, (5,2)-->tuple, tuple is one of the four inbuilt data types in the python languague, tuple is a ordered list"
   ]
  },
  {
   "cell_type": "code",
   "execution_count": 47,
   "id": "2d372008",
   "metadata": {},
   "outputs": [
    {
     "name": "stdout",
     "output_type": "stream",
     "text": [
      "(3, 7)\n"
     ]
    },
    {
     "data": {
      "text/plain": [
       "tuple"
      ]
     },
     "execution_count": 47,
     "metadata": {},
     "output_type": "execute_result"
    }
   ],
   "source": [
    "G = divmod(34,9)\n",
    "print(G)\n",
    "type(G)"
   ]
  },
  {
   "cell_type": "code",
   "execution_count": 48,
   "id": "af0b2e63",
   "metadata": {},
   "outputs": [
    {
     "name": "stdout",
     "output_type": "stream",
     "text": [
      "Variable   Type     Data/Info\n",
      "-----------------------------\n",
      "G          tuple    n=2\n",
      "a          int      3\n",
      "b          int      5\n",
      "c          bool     True\n",
      "d          bool     False\n",
      "f          int      -3\n",
      "r          int      -3\n",
      "s          str      hellow world\n",
      "s1         str      hellow\n",
      "s2         str       world\n",
      "t          bool     False\n",
      "x          int      4\n",
      "y          int      9\n",
      "z          float    8.3\n"
     ]
    }
   ],
   "source": [
    "%whos"
   ]
  },
  {
   "cell_type": "code",
   "execution_count": 49,
   "id": "155373d1",
   "metadata": {},
   "outputs": [
    {
     "name": "stdout",
     "output_type": "stream",
     "text": [
      "(3, 7)\n"
     ]
    }
   ],
   "source": [
    "print(G)"
   ]
  },
  {
   "cell_type": "markdown",
   "id": "88ce1725",
   "metadata": {},
   "source": [
    "    ####  To access the first element of G wirte G[0], here first element is 3 and second element is 7"
   ]
  },
  {
   "cell_type": "code",
   "execution_count": 50,
   "id": "e7f129d9",
   "metadata": {},
   "outputs": [
    {
     "name": "stdout",
     "output_type": "stream",
     "text": [
      "3\n",
      "7\n"
     ]
    }
   ],
   "source": [
    "print(G[0])\n",
    "print(G[1])"
   ]
  },
  {
   "cell_type": "code",
   "execution_count": 51,
   "id": "16ee6b3e",
   "metadata": {},
   "outputs": [
    {
     "data": {
      "text/plain": [
       "3"
      ]
     },
     "execution_count": 51,
     "metadata": {},
     "output_type": "execute_result"
    }
   ],
   "source": [
    "G[1]\n",
    "G[0]"
   ]
  },
  {
   "cell_type": "markdown",
   "id": "86a33419",
   "metadata": {},
   "source": [
    "    #### if we write like above then we are calling the function and latest function will be printed  i.e G[0]"
   ]
  },
  {
   "cell_type": "markdown",
   "id": "137bf5f2",
   "metadata": {},
   "source": [
    "    #### isinstance( ) returns true, if the first argument is an instance of that class. Multiple classes can also be checked at once."
   ]
  },
  {
   "cell_type": "code",
   "execution_count": 52,
   "id": "044d688d",
   "metadata": {},
   "outputs": [
    {
     "name": "stdout",
     "output_type": "stream",
     "text": [
      "True\n"
     ]
    }
   ],
   "source": [
    "print(isinstance(1,int))"
   ]
  },
  {
   "cell_type": "code",
   "execution_count": 53,
   "id": "7c75160f",
   "metadata": {},
   "outputs": [
    {
     "name": "stdout",
     "output_type": "stream",
     "text": [
      "False\n",
      "True\n"
     ]
    }
   ],
   "source": [
    "print(isinstance(1.0,int))\n",
    "print(isinstance(1.0,(int,float)))"
   ]
  },
  {
   "cell_type": "code",
   "execution_count": 54,
   "id": "abfb2ba7",
   "metadata": {},
   "outputs": [
    {
     "data": {
      "text/plain": [
       "True"
      ]
     },
     "execution_count": 54,
     "metadata": {},
     "output_type": "execute_result"
    }
   ],
   "source": [
    "isinstance(3.4,(float,int))"
   ]
  },
  {
   "cell_type": "code",
   "execution_count": 63,
   "id": "a838eef7",
   "metadata": {},
   "outputs": [
    {
     "data": {
      "text/plain": [
       "True"
      ]
     },
     "execution_count": 63,
     "metadata": {},
     "output_type": "execute_result"
    }
   ],
   "source": [
    "isinstance(2+3j,(str,float,int,complex))"
   ]
  },
  {
   "cell_type": "markdown",
   "id": "6a191a35",
   "metadata": {},
   "source": [
    "### TO calclate power of x to y use (x)^y or pow(x,y), and sometimes pow(x,y,z) is used to find (x^y)%z"
   ]
  },
  {
   "cell_type": "code",
   "execution_count": 56,
   "id": "44c22bce",
   "metadata": {},
   "outputs": [
    {
     "data": {
      "text/plain": [
       "2"
      ]
     },
     "execution_count": 56,
     "metadata": {},
     "output_type": "execute_result"
    }
   ],
   "source": [
    "pow(2,4,7)"
   ]
  },
  {
   "cell_type": "code",
   "execution_count": 57,
   "id": "8a942978",
   "metadata": {},
   "outputs": [
    {
     "data": {
      "text/plain": [
       "16"
      ]
     },
     "execution_count": 57,
     "metadata": {},
     "output_type": "execute_result"
    }
   ],
   "source": [
    "2**4"
   ]
  },
  {
   "cell_type": "markdown",
   "id": "7b71088d",
   "metadata": {},
   "source": [
    "# Taking input from user"
   ]
  },
  {
   "cell_type": "code",
   "execution_count": 64,
   "id": "dedd3560",
   "metadata": {},
   "outputs": [
    {
     "name": "stdin",
     "output_type": "stream",
     "text": [
      "Enter a number:  12\n"
     ]
    }
   ],
   "source": [
    "x = input(\"Enter a number: \")"
   ]
  },
  {
   "cell_type": "code",
   "execution_count": 65,
   "id": "0812702a",
   "metadata": {},
   "outputs": [
    {
     "data": {
      "text/plain": [
       "str"
      ]
     },
     "execution_count": 65,
     "metadata": {},
     "output_type": "execute_result"
    }
   ],
   "source": [
    "type(x)"
   ]
  },
  {
   "cell_type": "markdown",
   "id": "0ee5898b",
   "metadata": {},
   "source": [
    "### type of x is str bcoz it recieves input as a sequence of characters"
   ]
  },
  {
   "cell_type": "code",
   "execution_count": 67,
   "id": "c87be28a",
   "metadata": {},
   "outputs": [],
   "source": [
    "x = int(x)"
   ]
  },
  {
   "cell_type": "markdown",
   "id": "31293b8a-4522-4856-9e3a-b4352a4129cc",
   "metadata": {},
   "source": [
    "#### we have converted it from string to int"
   ]
  },
  {
   "cell_type": "code",
   "execution_count": 66,
   "id": "7560400b",
   "metadata": {},
   "outputs": [
    {
     "data": {
      "text/plain": [
       "str"
      ]
     },
     "execution_count": 66,
     "metadata": {},
     "output_type": "execute_result"
    }
   ],
   "source": [
    "type(x)"
   ]
  },
  {
   "cell_type": "code",
   "execution_count": 68,
   "id": "13aa32d9",
   "metadata": {},
   "outputs": [
    {
     "name": "stdout",
     "output_type": "stream",
     "text": [
      "-22\n"
     ]
    }
   ],
   "source": [
    "print(x-34)"
   ]
  },
  {
   "cell_type": "code",
   "execution_count": 69,
   "id": "27ed53c3",
   "metadata": {},
   "outputs": [
    {
     "name": "stdin",
     "output_type": "stream",
     "text": [
      "Enter a real number : 12.5\n"
     ]
    }
   ],
   "source": [
    "a = float(input(\"Enter a real number :\"))"
   ]
  },
  {
   "cell_type": "code",
   "execution_count": 70,
   "id": "25e92218",
   "metadata": {},
   "outputs": [
    {
     "data": {
      "text/plain": [
       "float"
      ]
     },
     "execution_count": 70,
     "metadata": {},
     "output_type": "execute_result"
    }
   ],
   "source": [
    "type(a)"
   ]
  },
  {
   "cell_type": "code",
   "execution_count": 74,
   "id": "1e10cc0d",
   "metadata": {},
   "outputs": [
    {
     "name": "stdin",
     "output_type": "stream",
     "text": [
      "Enter a real number : 12.6\n"
     ]
    }
   ],
   "source": [
    "b = float(input(\"Enter a real number :\"))"
   ]
  },
  {
   "cell_type": "markdown",
   "id": "6f31ed8d",
   "metadata": {},
   "source": [
    "### IF you need help or dont know any thing about a particular command then write help(function) or function? ->for gathering info about it and function?? -> for knowing implementation of the function "
   ]
  },
  {
   "cell_type": "code",
   "execution_count": 75,
   "id": "63537c11",
   "metadata": {
    "scrolled": true
   },
   "outputs": [
    {
     "name": "stdout",
     "output_type": "stream",
     "text": [
      "Help on method raw_input in module ipykernel.kernelbase:\n",
      "\n",
      "raw_input(prompt='') method of ipykernel.ipkernel.IPythonKernel instance\n",
      "    Forward raw_input to frontends\n",
      "    \n",
      "    Raises\n",
      "    ------\n",
      "    StdinNotImplementedError if active frontend doesn't support stdin.\n",
      "\n"
     ]
    }
   ],
   "source": [
    "help(input)"
   ]
  },
  {
   "cell_type": "code",
   "execution_count": 77,
   "id": "ec38fc18",
   "metadata": {},
   "outputs": [
    {
     "data": {
      "text/plain": [
       "\u001b[0;31mSignature:\u001b[0m \u001b[0mpow\u001b[0m\u001b[0;34m(\u001b[0m\u001b[0mbase\u001b[0m\u001b[0;34m,\u001b[0m \u001b[0mexp\u001b[0m\u001b[0;34m,\u001b[0m \u001b[0mmod\u001b[0m\u001b[0;34m=\u001b[0m\u001b[0;32mNone\u001b[0m\u001b[0;34m)\u001b[0m\u001b[0;34m\u001b[0m\u001b[0;34m\u001b[0m\u001b[0m\n",
       "\u001b[0;31mDocstring:\u001b[0m\n",
       "Equivalent to base**exp with 2 arguments or base**exp % mod with 3 arguments\n",
       "\n",
       "Some types, such as ints, are able to use a more efficient algorithm when\n",
       "invoked using the three argument form.\n",
       "\u001b[0;31mType:\u001b[0m      builtin_function_or_method"
      ]
     },
     "metadata": {},
     "output_type": "display_data"
    }
   ],
   "source": [
    "pow?"
   ]
  },
  {
   "cell_type": "code",
   "execution_count": 78,
   "id": "7bc67ad0",
   "metadata": {},
   "outputs": [
    {
     "data": {
      "text/plain": [
       "\u001b[0;31mSignature:\u001b[0m \u001b[0minput\u001b[0m\u001b[0;34m(\u001b[0m\u001b[0mprompt\u001b[0m\u001b[0;34m=\u001b[0m\u001b[0;34m''\u001b[0m\u001b[0;34m)\u001b[0m\u001b[0;34m\u001b[0m\u001b[0;34m\u001b[0m\u001b[0m\n",
       "\u001b[0;31mSource:\u001b[0m   \n",
       "    \u001b[0;32mdef\u001b[0m \u001b[0mraw_input\u001b[0m\u001b[0;34m(\u001b[0m\u001b[0mself\u001b[0m\u001b[0;34m,\u001b[0m \u001b[0mprompt\u001b[0m\u001b[0;34m=\u001b[0m\u001b[0;34m\"\"\u001b[0m\u001b[0;34m)\u001b[0m\u001b[0;34m:\u001b[0m\u001b[0;34m\u001b[0m\n",
       "\u001b[0;34m\u001b[0m        \u001b[0;34m\"\"\"Forward raw_input to frontends\u001b[0m\n",
       "\u001b[0;34m\u001b[0m\n",
       "\u001b[0;34m        Raises\u001b[0m\n",
       "\u001b[0;34m        ------\u001b[0m\n",
       "\u001b[0;34m        StdinNotImplementedError if active frontend doesn't support stdin.\u001b[0m\n",
       "\u001b[0;34m        \"\"\"\u001b[0m\u001b[0;34m\u001b[0m\n",
       "\u001b[0;34m\u001b[0m        \u001b[0;32mif\u001b[0m \u001b[0;32mnot\u001b[0m \u001b[0mself\u001b[0m\u001b[0;34m.\u001b[0m\u001b[0m_allow_stdin\u001b[0m\u001b[0;34m:\u001b[0m\u001b[0;34m\u001b[0m\n",
       "\u001b[0;34m\u001b[0m            \u001b[0mmsg\u001b[0m \u001b[0;34m=\u001b[0m \u001b[0;34m\"raw_input was called, but this frontend does not support input requests.\"\u001b[0m\u001b[0;34m\u001b[0m\n",
       "\u001b[0;34m\u001b[0m            \u001b[0;32mraise\u001b[0m \u001b[0mStdinNotImplementedError\u001b[0m\u001b[0;34m(\u001b[0m\u001b[0mmsg\u001b[0m\u001b[0;34m)\u001b[0m\u001b[0;34m\u001b[0m\n",
       "\u001b[0;34m\u001b[0m        \u001b[0;32mreturn\u001b[0m \u001b[0mself\u001b[0m\u001b[0;34m.\u001b[0m\u001b[0m_input_request\u001b[0m\u001b[0;34m(\u001b[0m\u001b[0;34m\u001b[0m\n",
       "\u001b[0;34m\u001b[0m            \u001b[0mstr\u001b[0m\u001b[0;34m(\u001b[0m\u001b[0mprompt\u001b[0m\u001b[0;34m)\u001b[0m\u001b[0;34m,\u001b[0m\u001b[0;34m\u001b[0m\n",
       "\u001b[0;34m\u001b[0m            \u001b[0mself\u001b[0m\u001b[0;34m.\u001b[0m\u001b[0m_parent_ident\u001b[0m\u001b[0;34m[\u001b[0m\u001b[0;34m\"shell\"\u001b[0m\u001b[0;34m]\u001b[0m\u001b[0;34m,\u001b[0m\u001b[0;34m\u001b[0m\n",
       "\u001b[0;34m\u001b[0m            \u001b[0mself\u001b[0m\u001b[0;34m.\u001b[0m\u001b[0mget_parent\u001b[0m\u001b[0;34m(\u001b[0m\u001b[0;34m\"shell\"\u001b[0m\u001b[0;34m)\u001b[0m\u001b[0;34m,\u001b[0m\u001b[0;34m\u001b[0m\n",
       "\u001b[0;34m\u001b[0m            \u001b[0mpassword\u001b[0m\u001b[0;34m=\u001b[0m\u001b[0;32mFalse\u001b[0m\u001b[0;34m,\u001b[0m\u001b[0;34m\u001b[0m\n",
       "\u001b[0;34m\u001b[0m        \u001b[0;34m)\u001b[0m\u001b[0;34m\u001b[0m\u001b[0;34m\u001b[0m\u001b[0m\n",
       "\u001b[0;31mFile:\u001b[0m      /usr/local/lib/python3.10/dist-packages/ipykernel/kernelbase.py\n",
       "\u001b[0;31mType:\u001b[0m      method"
      ]
     },
     "metadata": {},
     "output_type": "display_data"
    }
   ],
   "source": [
    "input??"
   ]
  },
  {
   "cell_type": "code",
   "execution_count": 1,
   "id": "dc07366b",
   "metadata": {},
   "outputs": [
    {
     "name": "stdin",
     "output_type": "stream",
     "text": [
      " 12\n"
     ]
    }
   ],
   "source": [
    "a = int(input())"
   ]
  },
  {
   "cell_type": "code",
   "execution_count": null,
   "id": "14757c83",
   "metadata": {},
   "outputs": [],
   "source": [
    "a = int(input())\n",
    "b = int(input())\n",
    "if a>b:\n",
    "    print(a)\n",
    "    print(\"i am still inside if conditon\")\n",
    "print(\"i am outside if condition\")    \n"
   ]
  },
  {
   "cell_type": "markdown",
   "id": "d8d6ca05",
   "metadata": {},
   "source": [
    "## the third print is outside the if condition"
   ]
  },
  {
   "cell_type": "code",
   "execution_count": 5,
   "id": "30daba7f",
   "metadata": {},
   "outputs": [
    {
     "name": "stdin",
     "output_type": "stream",
     "text": [
      " 10\n",
      " 11\n"
     ]
    },
    {
     "name": "stdout",
     "output_type": "stream",
     "text": [
      "10\n"
     ]
    }
   ],
   "source": [
    "a = int(input())\n",
    "b = int(input())\n",
    "if b>a:\n",
    "    print(a)\n",
    "elif a>b:\n",
    "    print(b)        "
   ]
  },
  {
   "cell_type": "code",
   "execution_count": 6,
   "id": "3314199f",
   "metadata": {},
   "outputs": [
    {
     "name": "stdin",
     "output_type": "stream",
     "text": [
      " 21\n",
      " 10\n"
     ]
    },
    {
     "name": "stdout",
     "output_type": "stream",
     "text": [
      "a is greater than b\n"
     ]
    }
   ],
   "source": [
    "a = int(input())\n",
    "b = int(input())\n",
    "if b>a:\n",
    "    print(\"b is greater than a\")\n",
    "else:\n",
    "    print(\"a is greater than b\")"
   ]
  },
  {
   "cell_type": "code",
   "execution_count": 7,
   "id": "61144fdf",
   "metadata": {},
   "outputs": [
    {
     "name": "stdout",
     "output_type": "stream",
     "text": [
      "b is greater than a\n"
     ]
    }
   ],
   "source": [
    "a = 1\n",
    "b = 5\n",
    "if a==b:\n",
    "    print(\"equal\")\n",
    "elif a>b:\n",
    "    print(\"a is greater than b\")\n",
    "else:\n",
    "    print(\"b is greater than a\")"
   ]
  },
  {
   "cell_type": "code",
   "execution_count": 9,
   "id": "c55e3529",
   "metadata": {},
   "outputs": [
    {
     "name": "stdin",
     "output_type": "stream",
     "text": [
      "Enter Marks 70\n"
     ]
    },
    {
     "name": "stdout",
     "output_type": "stream",
     "text": [
      "D Grade\n",
      "congragulations for passing\n"
     ]
    }
   ],
   "source": [
    "a = int(input(\"Enter Marks\"))\n",
    "if a>= 85:\n",
    "    print(\"A Grade\")\n",
    "    print(\"congragulations for passing\")\n",
    "elif (a < 85) and (a >= 80):\n",
    "    print(\"B Grade\")\n",
    "    print(\"congragulations for passing\")\n",
    "elif (a >= 75) and (a < 80):\n",
    "    print(\"C Grade\")\n",
    "    print(\"congragulations for passing\")\n",
    "elif (a < 75) and (a >= 70):\n",
    "    print(\"D Grade\")\n",
    "    print(\"congragulations for passing\")\n",
    "elif (a < 70) and (a >=65):\n",
    "    print(\"E Grade\")\n",
    "    print(\"congragulations for passing\")\n",
    "elif (a < 65) and (a >= 60):\n",
    "    print(\"F Grade\")\n",
    "    print(\"Better Luck next time\")"
   ]
  },
  {
   "cell_type": "code",
   "execution_count": null,
   "id": "ff1b5b60",
   "metadata": {},
   "outputs": [],
   "source": [
    "x = int(input(\"Enter Number:\"))\n",
    "\n",
    "if x > 10:\n",
    "    print(\"your number is above 10\")\n",
    "    if x > 20:\n",
    "        print(\"and also above 20\")\n",
    "    else:\n",
    "        print(\"but not above 20\")\n",
    "print(\"outside if condition\")"
   ]
  },
  {
   "cell_type": "code",
   "execution_count": null,
   "id": "68782821",
   "metadata": {},
   "outputs": [],
   "source": [
    "a = 3\n",
    "if a > 10:\n",
    "    print(\">10\")\n",
    "elif a<10:\n",
    "    print(\"<10\")"
   ]
  },
  {
   "cell_type": "markdown",
   "id": "e2678ce9",
   "metadata": {},
   "source": [
    "# Nested If else"
   ]
  },
  {
   "cell_type": "markdown",
   "id": "7b40193d",
   "metadata": {},
   "source": [
    "### It is indentation(proper alingnment**) that decides which part belongs to what kind of block or structure, the entire meanig of code will change if you don' care about it in PYTHON."
   ]
  },
  {
   "cell_type": "code",
   "execution_count": 8,
   "id": "26220f63",
   "metadata": {},
   "outputs": [
    {
     "name": "stdin",
     "output_type": "stream",
     "text": [
      "Enter a real number: 238.915\n"
     ]
    },
    {
     "name": "stdout",
     "output_type": "stream",
     "text": [
      "238\n",
      "238\n",
      "number is even\n"
     ]
    }
   ],
   "source": [
    "# for single line comment\n",
    "\"\"\" \n",
    "for multiline comment\n",
    "\"\"\"\n",
    "\"\"\"User will enter a floating point number let say 238.915.Your task is to find out integer\n",
    "number before the point(in this case 238), and then check whether number is even or not?\n",
    "\"\"\"\n",
    "x = float(input(\"Enter a real number:\"))\n",
    "if x > 0:\n",
    "    y = round(x)\n",
    "    if y > x:\n",
    "        intPortion = y - 1\n",
    "    else:\n",
    "        intPortion = y\n",
    "    print(intPortion)\n",
    "else:\n",
    "    y = round(x)\n",
    "    if y < x:\n",
    "        intPortion = y + 1\n",
    "    else:\n",
    "        intPortion = y\n",
    "print(intPortion)\n",
    "if intPortion%2 == 0:\n",
    "    print(\"number is even\")\n",
    "else:\n",
    "    print(\"number is not even\")\n"
   ]
  },
  {
   "cell_type": "markdown",
   "id": "531296e6",
   "metadata": {},
   "source": [
    "# Loops"
   ]
  },
  {
   "cell_type": "markdown",
   "id": "b22bc0ed",
   "metadata": {},
   "source": [
    "## WHILE LOOP"
   ]
  },
  {
   "cell_type": "markdown",
   "id": "9d725966",
   "metadata": {},
   "source": [
    "    #### till the condition inside while is true it will be executed again and again and after that it will moov to next block"
   ]
  },
  {
   "cell_type": "code",
   "execution_count": 10,
   "id": "c7d2f227",
   "metadata": {},
   "outputs": [
    {
     "name": "stdin",
     "output_type": "stream",
     "text": [
      "Enter the number: 5\n"
     ]
    },
    {
     "name": "stdout",
     "output_type": "stream",
     "text": [
      "1\n",
      "this is iteration number : 1\n",
      "4\n",
      "this is iteration number : 2\n",
      "9\n",
      "this is iteration number : 3\n",
      "16\n",
      "this is iteration number : 4\n",
      "25\n",
      "this is iteration number : 5\n",
      "loop done, outside while loop\n"
     ]
    }
   ],
   "source": [
    "n = int(input(\"Enter the number:\"))\n",
    "i = 1\n",
    "while i<=n:\n",
    "    print(i**2)\n",
    "    print(\"this is iteration number :\", i)\n",
    "    i += 1 #same as i = i+1\n",
    "print(\"loop done, outside while loop\")"
   ]
  },
  {
   "cell_type": "code",
   "execution_count": null,
   "id": "a1a778af",
   "metadata": {},
   "outputs": [],
   "source": [
    "n = int(input(\"Max iterations:\"))\n",
    "i = 1\n",
    "while i < n:\n",
    "    if (i%2 == 0):\n",
    "        print(i)\n",
    "    else:\n",
    "        pass #means do nothing, it could even be omitted,it is just written for sake of\n",
    "             #readability\n",
    "    i += 1 #increment i\n",
    "print(\"done\")"
   ]
  },
  {
   "cell_type": "code",
   "execution_count": null,
   "id": "90ba79f2",
   "metadata": {},
   "outputs": [],
   "source": [
    "n = int(input(\"max iterations:\"))\n",
    "i = 1\n",
    "while i <= n:\n",
    "    if (i%17 == 0):\n",
    "        print(\"this is the iteration number:\", i)\n",
    "        print('break')\n",
    "        break #break immediately exits the loop and get out of its body, no further\n",
    "              #no code will be run after break command of the loop\n",
    "    else:\n",
    "        pass #means do nothing, it could even be omitted,it is just written for sake of\n",
    "             #readability\n",
    "    i += 1 #increment i\n",
    "print(\"done\")"
   ]
  },
  {
   "cell_type": "markdown",
   "id": "e257f543",
   "metadata": {},
   "source": [
    "## Break Statement ^|"
   ]
  },
  {
   "cell_type": "markdown",
   "id": "ad33bfe4",
   "metadata": {},
   "source": [
    "## CONTINUE"
   ]
  },
  {
   "cell_type": "markdown",
   "id": "0860fd4b",
   "metadata": {},
   "source": [
    "    #### continue will skip the codes after which it is written and again start the iteration"
   ]
  },
  {
   "cell_type": "code",
   "execution_count": null,
   "id": "d3d71717",
   "metadata": {},
   "outputs": [],
   "source": [
    "n = 10\n",
    "i = 1\n",
    "while True:\n",
    "    if i%9 == 0:\n",
    "                print(\"inside if\")\n",
    "                break\n",
    "    else:\n",
    "        print(\"inside else\") \n",
    "        i += 1 #i = i + 1\n",
    "         \n",
    "print(\"done\")"
   ]
  },
  {
   "cell_type": "markdown",
   "id": "f97ad312",
   "metadata": {},
   "source": [
    "    #### no command is run after break"
   ]
  },
  {
   "cell_type": "code",
   "execution_count": null,
   "id": "4163a1d1",
   "metadata": {
    "scrolled": true
   },
   "outputs": [],
   "source": [
    "n = 10\n",
    "i = 1\n",
    "while True:\n",
    "    if i%9 != 0:\n",
    "        print(\"inside if\")\n",
    "        i += 1 \n",
    "        continue\n",
    "    print(\"outside if\")    \n",
    "    print(\"this is iteration number:\", i)\n",
    "    print(\"something\")\n",
    "    print(\"somethingelse\")\n",
    "    break\n",
    "            \n",
    "\n",
    "print(\"done\")"
   ]
  },
  {
   "cell_type": "markdown",
   "id": "b8ab2bf0",
   "metadata": {},
   "source": [
    "    #### continue skips the content after it and executes the same loop until the condition becomes false"
   ]
  },
  {
   "cell_type": "code",
   "execution_count": 11,
   "id": "6ba5e19d",
   "metadata": {},
   "outputs": [
    {
     "name": "stdout",
     "output_type": "stream",
     "text": [
      "1\n",
      "2\n",
      "3\n",
      "4\n",
      "5\n",
      "6\n",
      "7\n",
      "8\n",
      "9\n",
      "10\n",
      "[0, 1, 4, 9, 16, 25, 36, 49, 64, 81]\n"
     ]
    }
   ],
   "source": [
    "L = []\n",
    "for i in range(10):\n",
    "    print(i+1)\n",
    "    L.append(i**2)\n",
    "print(L)"
   ]
  },
  {
   "cell_type": "markdown",
   "id": "64ecb5c4-a2a2-477e-b3da-7113f16bd868",
   "metadata": {},
   "source": [
    "for i in range(0,10,2) --> range(init, lessthan, stepsize)"
   ]
  },
  {
   "cell_type": "code",
   "execution_count": 12,
   "id": "92968c9e-a475-4bf7-a36b-10a188284562",
   "metadata": {},
   "outputs": [
    {
     "name": "stdout",
     "output_type": "stream",
     "text": [
      "1\n",
      "3\n",
      "5\n",
      "7\n",
      "9\n",
      "[0, 4, 16, 36, 64]\n"
     ]
    }
   ],
   "source": [
    "L = []\n",
    "for i in range(0,10,2):\n",
    "    print(i+1)\n",
    "    L.append(i**2)\n",
    "print(L)"
   ]
  },
  {
   "cell_type": "markdown",
   "id": "0434bc4f-bb09-43cc-9577-c6fd042865d7",
   "metadata": {},
   "source": [
    "## Else in for loops"
   ]
  },
  {
   "cell_type": "code",
   "execution_count": 19,
   "id": "46bd798a-f4ed-492c-99b2-fdb885f4e0ce",
   "metadata": {},
   "outputs": [
    {
     "name": "stdout",
     "output_type": "stream",
     "text": [
      "cherry\n",
      "apple\n",
      "outside the loop\n"
     ]
    }
   ],
   "source": [
    "S = {\"apple\", 4.9, \"cherry\"} #set\n",
    "i = 1\n",
    "for x in S:\n",
    "    print(x)\n",
    "    i+=1\n",
    "    if(i==3):\n",
    "        break #since the loop terminated before completing, so else condition will not be executed\n",
    "    else:\n",
    "        pass\n",
    "else: #the else part will execute only after the for loop completed its all iterations\n",
    "    print(\"loop completes its iterations\")\n",
    "print(\"outside the loop\")"
   ]
  },
  {
   "cell_type": "markdown",
   "id": "a135f9d1-9d94-4c81-a8e0-e302e87cbb91",
   "metadata": {},
   "source": [
    "### Dictionary"
   ]
  },
  {
   "cell_type": "code",
   "execution_count": 20,
   "id": "d83e3f9a-cfa1-4102-ae9a-3f10439ea180",
   "metadata": {},
   "outputs": [
    {
     "name": "stdout",
     "output_type": "stream",
     "text": [
      "A 10\n",
      "B -19\n",
      "C abc\n"
     ]
    }
   ],
   "source": [
    "D = {\"A\":10,\"B\":-19,\"C\":\"abc\"}\n",
    "for x in D:\n",
    "    print(x, D[x])"
   ]
  },
  {
   "cell_type": "code",
   "execution_count": 29,
   "id": "ce8e929a-7f3e-4d46-8a99-90a57094af6f",
   "metadata": {},
   "outputs": [],
   "source": [
    "\"\"\"given a list of numbers i.e. [1,2,4,-5,7,9,3,2], make another list that contain all the items in sorted order from min to max.\n",
    "i.e your result will be another list like [-5,1,2,2,3,7,9]\n",
    "\"\"\"\n",
    "#finding min element\n",
    "L = [1,2,4,-5,7,9,3,2]\n",
    "for j in range(len(L)):\n",
    "    m = L[j]\n",
    "    ind = j\n",
    "    c = j\n",
    "    for i in range(j,len(L)):\n",
    "        if L[i] < m:\n",
    "            m = L[i]\n",
    "            ind = c\n",
    "        c+=1\n",
    "    tmp = L[j]\n",
    "    L[j] = m\n",
    "    L[ind] = tmp"
   ]
  },
  {
   "cell_type": "code",
   "execution_count": 30,
   "id": "19c779b5-900a-4733-a5b0-e85ae5977669",
   "metadata": {},
   "outputs": [
    {
     "data": {
      "text/plain": [
       "[-5, 1, 2, 2, 3, 4, 7, 9]"
      ]
     },
     "execution_count": 30,
     "metadata": {},
     "output_type": "execute_result"
    }
   ],
   "source": [
    "L"
   ]
  },
  {
   "cell_type": "code",
   "execution_count": null,
   "id": "b2b02e8d-ba6d-4ca5-8ad7-d63eee03f244",
   "metadata": {},
   "outputs": [],
   "source": [
    "# Functions in Python"
   ]
  },
  {
   "cell_type": "code",
   "execution_count": 32,
   "id": "b9e24572-6061-4ede-bb20-b241ed139e71",
   "metadata": {},
   "outputs": [],
   "source": [
    "def printSucess():\n",
    "    print(\"I am done\")\n",
    "    print(\"send me another task\")"
   ]
  },
  {
   "cell_type": "code",
   "execution_count": 33,
   "id": "9c619edc-bbe8-4413-893f-747f9c5c5ca7",
   "metadata": {},
   "outputs": [
    {
     "name": "stdout",
     "output_type": "stream",
     "text": [
      "I am done\n",
      "send me another task\n"
     ]
    }
   ],
   "source": [
    "printSucess() #calling the function"
   ]
  },
  {
   "cell_type": "markdown",
   "id": "84305211-240c-4c9e-9b22-4c900ecfc198",
   "metadata": {},
   "source": [
    "#### DOC String"
   ]
  },
  {
   "cell_type": "code",
   "execution_count": 48,
   "id": "65098261-b7c3-47c4-b9ac-6c4784ac45e2",
   "metadata": {},
   "outputs": [],
   "source": [
    "def printSuccess2():\n",
    "    \"\"\" This function is doing nothing except printing a message.\n",
    "    That message is \"hellow\"\n",
    "    \"\"\"\n",
    "    print(\"hellow\")"
   ]
  },
  {
   "cell_type": "markdown",
   "id": "fabb8b18-817f-4837-bf03-5ad73928f812",
   "metadata": {},
   "source": [
    "it will pull the Doc String"
   ]
  },
  {
   "cell_type": "code",
   "execution_count": 51,
   "id": "6bffa0a7-0e56-4ac0-a967-f914ba01d800",
   "metadata": {},
   "outputs": [
    {
     "data": {
      "text/plain": [
       "\u001b[0;31mSignature:\u001b[0m \u001b[0mprintSuccess2\u001b[0m\u001b[0;34m(\u001b[0m\u001b[0;34m)\u001b[0m\u001b[0;34m\u001b[0m\u001b[0;34m\u001b[0m\u001b[0m\n",
       "\u001b[0;31mDocstring:\u001b[0m\n",
       "This function is doing nothing except printing a message.\n",
       "That message is \"hellow\"\n",
       "\u001b[0;31mFile:\u001b[0m      /tmp/ipykernel_4249/1187527695.py\n",
       "\u001b[0;31mType:\u001b[0m      function"
      ]
     },
     "metadata": {},
     "output_type": "display_data"
    }
   ],
   "source": [
    "printSuccess2?"
   ]
  },
  {
   "cell_type": "markdown",
   "id": "1d0767b6-4088-4e47-8f51-34059b3a2af8",
   "metadata": {},
   "source": [
    "It will not only pull the Doc string but also the implementation."
   ]
  },
  {
   "cell_type": "code",
   "execution_count": 53,
   "id": "1553fde4-4077-46e6-b0db-87ebf792d0c0",
   "metadata": {},
   "outputs": [
    {
     "data": {
      "text/plain": [
       "\u001b[0;31mSignature:\u001b[0m \u001b[0mprintSuccess2\u001b[0m\u001b[0;34m(\u001b[0m\u001b[0;34m)\u001b[0m\u001b[0;34m\u001b[0m\u001b[0;34m\u001b[0m\u001b[0m\n",
       "\u001b[0;31mSource:\u001b[0m   \n",
       "\u001b[0;32mdef\u001b[0m \u001b[0mprintSuccess2\u001b[0m\u001b[0;34m(\u001b[0m\u001b[0;34m)\u001b[0m\u001b[0;34m:\u001b[0m\u001b[0;34m\u001b[0m\n",
       "\u001b[0;34m\u001b[0m    \u001b[0;34m\"\"\" This function is doing nothing except printing a message.\u001b[0m\n",
       "\u001b[0;34m    That message is \"hellow\"\u001b[0m\n",
       "\u001b[0;34m    \"\"\"\u001b[0m\u001b[0;34m\u001b[0m\n",
       "\u001b[0;34m\u001b[0m    \u001b[0mprint\u001b[0m\u001b[0;34m(\u001b[0m\u001b[0;34m\"hellow\"\u001b[0m\u001b[0;34m)\u001b[0m\u001b[0;34m\u001b[0m\u001b[0;34m\u001b[0m\u001b[0m\n",
       "\u001b[0;31mFile:\u001b[0m      /tmp/ipykernel_4249/1187527695.py\n",
       "\u001b[0;31mType:\u001b[0m      function"
      ]
     },
     "metadata": {},
     "output_type": "display_data"
    }
   ],
   "source": [
    "printSuccess2??"
   ]
  },
  {
   "cell_type": "code",
   "execution_count": 54,
   "id": "44639b21-d809-4d20-abe7-4e291afba784",
   "metadata": {},
   "outputs": [
    {
     "name": "stdout",
     "output_type": "stream",
     "text": [
      "Help on function printSuccess2 in module __main__:\n",
      "\n",
      "printSuccess2()\n",
      "    This function is doing nothing except printing a message.\n",
      "    That message is \"hellow\"\n",
      "\n"
     ]
    }
   ],
   "source": [
    "help(printSuccess2)"
   ]
  },
  {
   "cell_type": "code",
   "execution_count": 55,
   "id": "a200a025-4096-4bae-8c8c-66c1df7e7102",
   "metadata": {},
   "outputs": [
    {
     "name": "stdout",
     "output_type": "stream",
     "text": [
      "hellow\n"
     ]
    }
   ],
   "source": [
    "printSuccess2()"
   ]
  },
  {
   "cell_type": "code",
   "execution_count": 57,
   "id": "e9cd79f9-0de7-436a-8519-829a8564b512",
   "metadata": {},
   "outputs": [],
   "source": [
    "def printMessage(msg):\n",
    "    \"\"\" The function prints the message supplied by the user\n",
    "    or prints that the message is not in the form of string.\n",
    "    \"\"\"\n",
    "    if isinstance(msg, str):\n",
    "        print(msg)\n",
    "    else:\n",
    "        print(\"Your input argument is not a string\")\n",
    "        print(\"Here is type of what you have supplied \", type(msg))"
   ]
  },
  {
   "cell_type": "code",
   "execution_count": 58,
   "id": "b9e7e8a9-3a0e-4d35-b528-a0ec1649023e",
   "metadata": {},
   "outputs": [
    {
     "name": "stdout",
     "output_type": "stream",
     "text": [
      "Help on function printMessage in module __main__:\n",
      "\n",
      "printMessage(msg)\n",
      "    The function prints the message supplied by the user\n",
      "    or prints that the message is not in the form of string.\n",
      "\n"
     ]
    }
   ],
   "source": [
    "help(printMessage)"
   ]
  },
  {
   "cell_type": "code",
   "execution_count": 59,
   "id": "9a92362b-78c9-4dc7-84aa-1f596f5e7dbe",
   "metadata": {},
   "outputs": [
    {
     "data": {
      "text/plain": [
       "\u001b[0;31mSignature:\u001b[0m \u001b[0mprintMessage\u001b[0m\u001b[0;34m(\u001b[0m\u001b[0mmsg\u001b[0m\u001b[0;34m)\u001b[0m\u001b[0;34m\u001b[0m\u001b[0;34m\u001b[0m\u001b[0m\n",
       "\u001b[0;31mSource:\u001b[0m   \n",
       "\u001b[0;32mdef\u001b[0m \u001b[0mprintMessage\u001b[0m\u001b[0;34m(\u001b[0m\u001b[0mmsg\u001b[0m\u001b[0;34m)\u001b[0m\u001b[0;34m:\u001b[0m\u001b[0;34m\u001b[0m\n",
       "\u001b[0;34m\u001b[0m    \u001b[0;34m\"\"\" The function prints the message supplied by the user\u001b[0m\n",
       "\u001b[0;34m    or prints that the message is not in the form of string.\u001b[0m\n",
       "\u001b[0;34m    \"\"\"\u001b[0m\u001b[0;34m\u001b[0m\n",
       "\u001b[0;34m\u001b[0m    \u001b[0;32mif\u001b[0m \u001b[0misinstance\u001b[0m\u001b[0;34m(\u001b[0m\u001b[0mmsg\u001b[0m\u001b[0;34m,\u001b[0m \u001b[0mstr\u001b[0m\u001b[0;34m)\u001b[0m\u001b[0;34m:\u001b[0m\u001b[0;34m\u001b[0m\n",
       "\u001b[0;34m\u001b[0m        \u001b[0mprint\u001b[0m\u001b[0;34m(\u001b[0m\u001b[0mmsg\u001b[0m\u001b[0;34m)\u001b[0m\u001b[0;34m\u001b[0m\n",
       "\u001b[0;34m\u001b[0m    \u001b[0;32melse\u001b[0m\u001b[0;34m:\u001b[0m\u001b[0;34m\u001b[0m\n",
       "\u001b[0;34m\u001b[0m        \u001b[0mprint\u001b[0m\u001b[0;34m(\u001b[0m\u001b[0;34m\"Your input argument is not a string\"\u001b[0m\u001b[0;34m)\u001b[0m\u001b[0;34m\u001b[0m\n",
       "\u001b[0;34m\u001b[0m        \u001b[0mprint\u001b[0m\u001b[0;34m(\u001b[0m\u001b[0;34m\"Here is type of what you have supplied \"\u001b[0m\u001b[0;34m,\u001b[0m \u001b[0mtype\u001b[0m\u001b[0;34m(\u001b[0m\u001b[0mmsg\u001b[0m\u001b[0;34m)\u001b[0m\u001b[0;34m)\u001b[0m\u001b[0;34m\u001b[0m\u001b[0;34m\u001b[0m\u001b[0m\n",
       "\u001b[0;31mFile:\u001b[0m      /tmp/ipykernel_4249/3351158431.py\n",
       "\u001b[0;31mType:\u001b[0m      function"
      ]
     },
     "metadata": {},
     "output_type": "display_data"
    }
   ],
   "source": [
    "printMessage??"
   ]
  },
  {
   "cell_type": "code",
   "execution_count": 60,
   "id": "446858c6-c693-47fe-a5cc-9bb259fdd4c1",
   "metadata": {},
   "outputs": [
    {
     "name": "stdout",
     "output_type": "stream",
     "text": [
      "this is the message\n"
     ]
    }
   ],
   "source": [
    "printMessage(\"this is the message\")"
   ]
  },
  {
   "cell_type": "code",
   "execution_count": 61,
   "id": "a2d8092a-d7a7-4557-a939-be95f618abd1",
   "metadata": {},
   "outputs": [
    {
     "name": "stdout",
     "output_type": "stream",
     "text": [
      "Your input argument is not a string\n",
      "Here is type of what you have supplied  <class 'int'>\n"
     ]
    }
   ],
   "source": [
    "printMessage(23)"
   ]
  },
  {
   "cell_type": "code",
   "execution_count": 62,
   "id": "49c1cf20-fea5-436a-8ddd-0b9b9cfdcad9",
   "metadata": {},
   "outputs": [
    {
     "name": "stdout",
     "output_type": "stream",
     "text": [
      "hi there\n"
     ]
    }
   ],
   "source": [
    "y = \"hi there\"\n",
    "printMessage(y)"
   ]
  },
  {
   "cell_type": "code",
   "execution_count": null,
   "id": "ca31b511-de2e-4125-98f8-59d8aa14b3a0",
   "metadata": {},
   "outputs": [],
   "source": []
  }
 ],
 "metadata": {
  "kernelspec": {
   "display_name": "Python 3 (ipykernel)",
   "language": "python",
   "name": "python3"
  },
  "language_info": {
   "codemirror_mode": {
    "name": "ipython",
    "version": 3
   },
   "file_extension": ".py",
   "mimetype": "text/x-python",
   "name": "python",
   "nbconvert_exporter": "python",
   "pygments_lexer": "ipython3",
   "version": "3.10.12"
  }
 },
 "nbformat": 4,
 "nbformat_minor": 5
}
