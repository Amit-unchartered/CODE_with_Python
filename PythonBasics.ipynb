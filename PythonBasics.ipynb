{
 "cells": [
  {
   "cell_type": "code",
   "execution_count": 1,
   "id": "d6afa3c0",
   "metadata": {},
   "outputs": [
    {
     "name": "stdout",
     "output_type": "stream",
     "text": [
      "hello world\n"
     ]
    }
   ],
   "source": [
    "print(\"hello world\") "
   ]
  },
  {
   "cell_type": "markdown",
   "id": "c2da9249",
   "metadata": {},
   "source": [
    "# This is all about Python Basics"
   ]
  },
  {
   "cell_type": "code",
   "execution_count": 15,
   "id": "e14ce171",
   "metadata": {},
   "outputs": [
    {
     "name": "stdout",
     "output_type": "stream",
     "text": [
      "Variable   Type     Data/Info\n",
      "-----------------------------\n",
      "a          int      3\n",
      "b          int      5\n",
      "c          float    6.0\n",
      "d          float    7.2\n",
      "f          int      -3\n",
      "x          float    5.7\n"
     ]
    }
   ],
   "source": [
    "%whos"
   ]
  },
  {
   "cell_type": "markdown",
   "id": "23f221c7",
   "metadata": {},
   "source": [
    "    ####this is our first program in python: It is just started here"
   ]
  },
  {
   "cell_type": "code",
   "execution_count": 16,
   "id": "325ac6bb",
   "metadata": {},
   "outputs": [],
   "source": [
    "x = 3"
   ]
  },
  {
   "cell_type": "code",
   "execution_count": 17,
   "id": "a39d22a5",
   "metadata": {},
   "outputs": [
    {
     "name": "stdout",
     "output_type": "stream",
     "text": [
      "Variable   Type     Data/Info\n",
      "-----------------------------\n",
      "a          int      3\n",
      "b          int      5\n",
      "c          float    6.0\n",
      "d          float    7.2\n",
      "f          int      -3\n",
      "x          int      3\n"
     ]
    }
   ],
   "source": [
    "%whos"
   ]
  },
  {
   "cell_type": "code",
   "execution_count": 18,
   "id": "3d10db34",
   "metadata": {},
   "outputs": [
    {
     "name": "stdout",
     "output_type": "stream",
     "text": [
      "<class 'int'>\n"
     ]
    }
   ],
   "source": [
    "print(type(x))"
   ]
  },
  {
   "cell_type": "code",
   "execution_count": 19,
   "id": "a96c3545",
   "metadata": {},
   "outputs": [],
   "source": [
    "x = 5.7"
   ]
  },
  {
   "cell_type": "code",
   "execution_count": 20,
   "id": "b5ec38ec",
   "metadata": {},
   "outputs": [
    {
     "name": "stdout",
     "output_type": "stream",
     "text": [
      "Variable   Type     Data/Info\n",
      "-----------------------------\n",
      "a          int      3\n",
      "b          int      5\n",
      "c          float    6.0\n",
      "d          float    7.2\n",
      "f          int      -3\n",
      "x          float    5.7\n"
     ]
    }
   ],
   "source": [
    "%whos"
   ]
  },
  {
   "cell_type": "code",
   "execution_count": 21,
   "id": "0c8cbee0",
   "metadata": {},
   "outputs": [
    {
     "name": "stdout",
     "output_type": "stream",
     "text": [
      "<class 'float'>\n"
     ]
    }
   ],
   "source": [
    "print(type(x))"
   ]
  },
  {
   "cell_type": "code",
   "execution_count": 22,
   "id": "817a2c24",
   "metadata": {},
   "outputs": [],
   "source": [
    "abcd = 556.32"
   ]
  },
  {
   "cell_type": "code",
   "execution_count": 23,
   "id": "610fdcd8",
   "metadata": {},
   "outputs": [
    {
     "name": "stdout",
     "output_type": "stream",
     "text": [
      "Variable   Type     Data/Info\n",
      "-----------------------------\n",
      "a          int      3\n",
      "abcd       float    556.32\n",
      "b          int      5\n",
      "c          float    6.0\n",
      "d          float    7.2\n",
      "f          int      -3\n",
      "x          float    5.7\n"
     ]
    }
   ],
   "source": [
    "%whos"
   ]
  },
  {
   "cell_type": "code",
   "execution_count": 24,
   "id": "42ffaeb5",
   "metadata": {},
   "outputs": [],
   "source": [
    "a,b,c,d,f = 3,5,6.0,7.2,-3"
   ]
  },
  {
   "cell_type": "code",
   "execution_count": 25,
   "id": "bd28356d",
   "metadata": {},
   "outputs": [
    {
     "name": "stdout",
     "output_type": "stream",
     "text": [
      "Variable   Type     Data/Info\n",
      "-----------------------------\n",
      "a          int      3\n",
      "abcd       float    556.32\n",
      "b          int      5\n",
      "c          float    6.0\n",
      "d          float    7.2\n",
      "f          int      -3\n",
      "x          float    5.7\n"
     ]
    }
   ],
   "source": [
    "%whos"
   ]
  },
  {
   "cell_type": "markdown",
   "id": "8f6e37e2",
   "metadata": {},
   "source": [
    "# %whos check the status of memory"
   ]
  },
  {
   "cell_type": "code",
   "execution_count": 26,
   "id": "4aef49ea",
   "metadata": {},
   "outputs": [],
   "source": [
    "del abcd"
   ]
  },
  {
   "cell_type": "markdown",
   "id": "94a59f31",
   "metadata": {},
   "source": [
    "    ### del argument deletes it."
   ]
  },
  {
   "cell_type": "code",
   "execution_count": 27,
   "id": "92bb19a2",
   "metadata": {},
   "outputs": [
    {
     "ename": "NameError",
     "evalue": "name 'abcd' is not defined",
     "output_type": "error",
     "traceback": [
      "\u001b[0;31m---------------------------------------------------------------------------\u001b[0m",
      "\u001b[0;31mNameError\u001b[0m                                 Traceback (most recent call last)",
      "\u001b[0;32m/tmp/ipykernel_20802/224357748.py\u001b[0m in \u001b[0;36m<module>\u001b[0;34m\u001b[0m\n\u001b[0;32m----> 1\u001b[0;31m \u001b[0mprint\u001b[0m\u001b[0;34m(\u001b[0m\u001b[0mabcd\u001b[0m\u001b[0;34m)\u001b[0m\u001b[0;34m\u001b[0m\u001b[0;34m\u001b[0m\u001b[0m\n\u001b[0m",
      "\u001b[0;31mNameError\u001b[0m: name 'abcd' is not defined"
     ]
    }
   ],
   "source": [
    "print(abcd)"
   ]
  },
  {
   "cell_type": "markdown",
   "id": "01f016df",
   "metadata": {},
   "source": [
    "#### since we have deleted it"
   ]
  },
  {
   "cell_type": "code",
   "execution_count": 28,
   "id": "396aa39d",
   "metadata": {},
   "outputs": [],
   "source": [
    "s = \"hello how are you\""
   ]
  },
  {
   "cell_type": "code",
   "execution_count": 29,
   "id": "2f46ee2a",
   "metadata": {},
   "outputs": [
    {
     "name": "stdout",
     "output_type": "stream",
     "text": [
      "<class 'str'>\n"
     ]
    }
   ],
   "source": [
    "print(type(s))"
   ]
  },
  {
   "cell_type": "code",
   "execution_count": 30,
   "id": "0493449c",
   "metadata": {},
   "outputs": [
    {
     "name": "stdout",
     "output_type": "stream",
     "text": [
      "Variable   Type     Data/Info\n",
      "-----------------------------\n",
      "a          int      3\n",
      "b          int      5\n",
      "c          float    6.0\n",
      "d          float    7.2\n",
      "f          int      -3\n",
      "s          str      hello how are you\n",
      "x          float    5.7\n"
     ]
    }
   ],
   "source": [
    "%whos"
   ]
  },
  {
   "cell_type": "markdown",
   "id": "4c37de57",
   "metadata": {},
   "source": [
    "# python is a dynamically typed language \n",
    "dont need to define the type of vartiable"
   ]
  },
  {
   "cell_type": "markdown",
   "id": "6b4b7fe0",
   "metadata": {},
   "source": [
    "# Operators"
   ]
  },
  {
   "cell_type": "code",
   "execution_count": 31,
   "id": "f9aff287",
   "metadata": {},
   "outputs": [
    {
     "name": "stdout",
     "output_type": "stream",
     "text": [
      "Variable   Type     Data/Info\n",
      "-----------------------------\n",
      "a          int      3\n",
      "b          int      5\n",
      "c          float    6.0\n",
      "d          float    7.2\n",
      "f          int      -3\n",
      "s          str      hello how are you\n",
      "x          float    5.7\n"
     ]
    }
   ],
   "source": [
    "%whos"
   ]
  },
  {
   "cell_type": "code",
   "execution_count": 32,
   "id": "c91093c0",
   "metadata": {},
   "outputs": [],
   "source": [
    "sumOfAandB = a + b"
   ]
  },
  {
   "cell_type": "code",
   "execution_count": 33,
   "id": "41365240",
   "metadata": {},
   "outputs": [
    {
     "name": "stdout",
     "output_type": "stream",
     "text": [
      "8\n"
     ]
    }
   ],
   "source": [
    "print(sumOfAandB)"
   ]
  },
  {
   "cell_type": "code",
   "execution_count": 34,
   "id": "8a2d1f8e",
   "metadata": {},
   "outputs": [
    {
     "data": {
      "text/plain": [
       "int"
      ]
     },
     "execution_count": 34,
     "metadata": {},
     "output_type": "execute_result"
    }
   ],
   "source": [
    "type(sumOfAandB)"
   ]
  },
  {
   "cell_type": "code",
   "execution_count": 35,
   "id": "66d13152",
   "metadata": {},
   "outputs": [
    {
     "data": {
      "text/plain": [
       "float"
      ]
     },
     "execution_count": 35,
     "metadata": {},
     "output_type": "execute_result"
    }
   ],
   "source": [
    "type(a+d)"
   ]
  },
  {
   "cell_type": "markdown",
   "id": "94ab97da",
   "metadata": {},
   "source": [
    "### types are upcasted to super set"
   ]
  },
  {
   "cell_type": "code",
   "execution_count": 36,
   "id": "c0e998a5",
   "metadata": {},
   "outputs": [
    {
     "data": {
      "text/plain": [
       "265.30199999999996"
      ]
     },
     "execution_count": 36,
     "metadata": {},
     "output_type": "execute_result"
    }
   ],
   "source": [
    "((a+d)**3)/4"
   ]
  },
  {
   "cell_type": "code",
   "execution_count": 37,
   "id": "464fad4d",
   "metadata": {},
   "outputs": [
    {
     "name": "stdout",
     "output_type": "stream",
     "text": [
      "hellow world\n"
     ]
    }
   ],
   "source": [
    "s1 = \"hellow\"\n",
    "s2 = \" world\"\n",
    "s = s1 + s2\n",
    "print(s)"
   ]
  },
  {
   "cell_type": "code",
   "execution_count": 38,
   "id": "6a169670",
   "metadata": {},
   "outputs": [
    {
     "data": {
      "text/plain": [
       "3"
      ]
     },
     "execution_count": 38,
     "metadata": {},
     "output_type": "execute_result"
    }
   ],
   "source": [
    "10//3"
   ]
  },
  {
   "cell_type": "code",
   "execution_count": 39,
   "id": "6be1fda0",
   "metadata": {},
   "outputs": [
    {
     "data": {
      "text/plain": [
       "3.3333333333333335"
      ]
     },
     "execution_count": 39,
     "metadata": {},
     "output_type": "execute_result"
    }
   ],
   "source": [
    "10/3"
   ]
  },
  {
   "cell_type": "markdown",
   "id": "99343b55",
   "metadata": {},
   "source": [
    "### if we don't assign result in the particular variable, by default the last unstored value is stored in _"
   ]
  },
  {
   "cell_type": "code",
   "execution_count": 40,
   "id": "75ffbf87",
   "metadata": {},
   "outputs": [
    {
     "data": {
      "text/plain": [
       "3.3333333333333335"
      ]
     },
     "execution_count": 40,
     "metadata": {},
     "output_type": "execute_result"
    }
   ],
   "source": [
    "_"
   ]
  },
  {
   "cell_type": "code",
   "execution_count": 41,
   "id": "5b04c530",
   "metadata": {},
   "outputs": [
    {
     "ename": "SyntaxError",
     "evalue": "invalid syntax (3013961758.py, line 1)",
     "output_type": "error",
     "traceback": [
      "\u001b[0;36m  File \u001b[0;32m\"/tmp/ipykernel_20802/3013961758.py\"\u001b[0;36m, line \u001b[0;32m1\u001b[0m\n\u001b[0;31m    3x = 4\u001b[0m\n\u001b[0m     ^\u001b[0m\n\u001b[0;31mSyntaxError\u001b[0m\u001b[0;31m:\u001b[0m invalid syntax\n"
     ]
    }
   ],
   "source": [
    "3x = 4 "
   ]
  },
  {
   "cell_type": "code",
   "execution_count": 42,
   "id": "7e490771",
   "metadata": {},
   "outputs": [
    {
     "ename": "SyntaxError",
     "evalue": "invalid syntax (1494947945.py, line 1)",
     "output_type": "error",
     "traceback": [
      "\u001b[0;36m  File \u001b[0;32m\"/tmp/ipykernel_20802/1494947945.py\"\u001b[0;36m, line \u001b[0;32m1\u001b[0m\n\u001b[0;31m    @y = 43\u001b[0m\n\u001b[0m       ^\u001b[0m\n\u001b[0;31mSyntaxError\u001b[0m\u001b[0;31m:\u001b[0m invalid syntax\n"
     ]
    }
   ],
   "source": [
    "@y = 43"
   ]
  },
  {
   "cell_type": "code",
   "execution_count": 43,
   "id": "c874284e",
   "metadata": {},
   "outputs": [],
   "source": [
    "_e = 7"
   ]
  },
  {
   "cell_type": "code",
   "execution_count": 44,
   "id": "28ce4a2f",
   "metadata": {},
   "outputs": [
    {
     "name": "stdout",
     "output_type": "stream",
     "text": [
      "Variable     Type     Data/Info\n",
      "-------------------------------\n",
      "a            int      3\n",
      "b            int      5\n",
      "c            float    6.0\n",
      "d            float    7.2\n",
      "f            int      -3\n",
      "s            str      hellow world\n",
      "s1           str      hellow\n",
      "s2           str       world\n",
      "sumOfAandB   int      8\n",
      "x            float    5.7\n"
     ]
    }
   ],
   "source": [
    "%whos"
   ]
  },
  {
   "cell_type": "markdown",
   "id": "b0adc6b0",
   "metadata": {},
   "source": [
    "# camel casing"
   ]
  },
  {
   "cell_type": "code",
   "execution_count": 45,
   "id": "16900d8f",
   "metadata": {},
   "outputs": [],
   "source": [
    "startingTimeOfCourse = 2.0"
   ]
  },
  {
   "cell_type": "code",
   "execution_count": 46,
   "id": "ee9c9f83",
   "metadata": {},
   "outputs": [
    {
     "name": "stdout",
     "output_type": "stream",
     "text": [
      "Variable               Type     Data/Info\n",
      "-----------------------------------------\n",
      "a                      int      3\n",
      "b                      int      5\n",
      "c                      float    6.0\n",
      "d                      float    7.2\n",
      "f                      int      -3\n",
      "s                      str      hellow world\n",
      "s1                     str      hellow\n",
      "s2                     str       world\n",
      "startingTimeOfCourse   float    2.0\n",
      "sumOfAandB             int      8\n",
      "x                      float    5.7\n"
     ]
    }
   ],
   "source": [
    "%whos"
   ]
  },
  {
   "cell_type": "markdown",
   "id": "45f2fe5c",
   "metadata": {},
   "source": [
    "#### variables can't start with special characters or digits except underscore _"
   ]
  },
  {
   "cell_type": "code",
   "execution_count": 47,
   "id": "47ed0844",
   "metadata": {},
   "outputs": [],
   "source": [
    "a = True\n",
    "b = True\n",
    "c = False"
   ]
  },
  {
   "cell_type": "code",
   "execution_count": 48,
   "id": "708f59d9",
   "metadata": {},
   "outputs": [
    {
     "name": "stdout",
     "output_type": "stream",
     "text": [
      "Variable               Type     Data/Info\n",
      "-----------------------------------------\n",
      "a                      bool     True\n",
      "b                      bool     True\n",
      "c                      bool     False\n",
      "d                      float    7.2\n",
      "f                      int      -3\n",
      "s                      str      hellow world\n",
      "s1                     str      hellow\n",
      "s2                     str       world\n",
      "startingTimeOfCourse   float    2.0\n",
      "sumOfAandB             int      8\n",
      "x                      float    5.7\n"
     ]
    }
   ],
   "source": [
    "%whos"
   ]
  },
  {
   "cell_type": "code",
   "execution_count": 49,
   "id": "94a564cd",
   "metadata": {},
   "outputs": [
    {
     "name": "stdout",
     "output_type": "stream",
     "text": [
      "True\n",
      "False\n",
      "False\n"
     ]
    }
   ],
   "source": [
    "print(a and b)\n",
    "print(a and c)\n",
    "print(c and a)"
   ]
  },
  {
   "cell_type": "code",
   "execution_count": 50,
   "id": "6abdcf91",
   "metadata": {},
   "outputs": [
    {
     "name": "stdout",
     "output_type": "stream",
     "text": [
      "True\n"
     ]
    }
   ],
   "source": [
    "d = a or c\n",
    "print(d)"
   ]
  },
  {
   "cell_type": "code",
   "execution_count": 51,
   "id": "4467643a",
   "metadata": {},
   "outputs": [
    {
     "name": "stdout",
     "output_type": "stream",
     "text": [
      "False\n"
     ]
    }
   ],
   "source": [
    "print(not(a))\n"
   ]
  },
  {
   "cell_type": "code",
   "execution_count": 52,
   "id": "235a2649",
   "metadata": {},
   "outputs": [
    {
     "data": {
      "text/plain": [
       "False"
      ]
     },
     "execution_count": 52,
     "metadata": {},
     "output_type": "execute_result"
    }
   ],
   "source": [
    "not(b)"
   ]
  },
  {
   "cell_type": "code",
   "execution_count": 53,
   "id": "826579f5",
   "metadata": {},
   "outputs": [
    {
     "data": {
      "text/plain": [
       "True"
      ]
     },
     "execution_count": 53,
     "metadata": {},
     "output_type": "execute_result"
    }
   ],
   "source": [
    "not(c)"
   ]
  },
  {
   "cell_type": "code",
   "execution_count": 54,
   "id": "f8d85884",
   "metadata": {},
   "outputs": [],
   "source": [
    "t = not(d)"
   ]
  },
  {
   "cell_type": "code",
   "execution_count": 55,
   "id": "5591a323",
   "metadata": {},
   "outputs": [
    {
     "data": {
      "text/plain": [
       "bool"
      ]
     },
     "execution_count": 55,
     "metadata": {},
     "output_type": "execute_result"
    }
   ],
   "source": [
    "type(t)"
   ]
  },
  {
   "cell_type": "code",
   "execution_count": 56,
   "id": "1592c13d",
   "metadata": {},
   "outputs": [
    {
     "name": "stdout",
     "output_type": "stream",
     "text": [
      "False\n"
     ]
    }
   ],
   "source": [
    "print(t)"
   ]
  },
  {
   "cell_type": "code",
   "execution_count": 57,
   "id": "265adc52",
   "metadata": {},
   "outputs": [
    {
     "data": {
      "text/plain": [
       "False"
      ]
     },
     "execution_count": 57,
     "metadata": {},
     "output_type": "execute_result"
    }
   ],
   "source": [
    "not((a and b) or (c or d))"
   ]
  },
  {
   "cell_type": "code",
   "execution_count": 58,
   "id": "516141d8",
   "metadata": {},
   "outputs": [
    {
     "name": "stdout",
     "output_type": "stream",
     "text": [
      "Variable               Type     Data/Info\n",
      "-----------------------------------------\n",
      "a                      bool     True\n",
      "b                      bool     True\n",
      "c                      bool     False\n",
      "d                      bool     True\n",
      "f                      int      -3\n",
      "s                      str      hellow world\n",
      "s1                     str      hellow\n",
      "s2                     str       world\n",
      "startingTimeOfCourse   float    2.0\n",
      "sumOfAandB             int      8\n",
      "t                      bool     False\n",
      "x                      float    5.7\n"
     ]
    }
   ],
   "source": [
    "%whos"
   ]
  },
  {
   "cell_type": "code",
   "execution_count": 59,
   "id": "0d3a125c",
   "metadata": {},
   "outputs": [
    {
     "name": "stdout",
     "output_type": "stream",
     "text": [
      "True\n"
     ]
    }
   ],
   "source": [
    "print(2<3)"
   ]
  },
  {
   "cell_type": "code",
   "execution_count": 60,
   "id": "63775b98",
   "metadata": {},
   "outputs": [
    {
     "name": "stdout",
     "output_type": "stream",
     "text": [
      "<class 'bool'>\n",
      "True\n"
     ]
    }
   ],
   "source": [
    "c = 2<3\n",
    "print(type(c))\n",
    "print(c)"
   ]
  },
  {
   "cell_type": "code",
   "execution_count": 61,
   "id": "976c6736",
   "metadata": {},
   "outputs": [
    {
     "name": "stdout",
     "output_type": "stream",
     "text": [
      "False\n"
     ]
    }
   ],
   "source": [
    "d = 3==4\n",
    "print(d)"
   ]
  },
  {
   "cell_type": "code",
   "execution_count": 62,
   "id": "b0d4d857",
   "metadata": {},
   "outputs": [
    {
     "data": {
      "text/plain": [
       "True"
      ]
     },
     "execution_count": 62,
     "metadata": {},
     "output_type": "execute_result"
    }
   ],
   "source": [
    "3==3.0"
   ]
  },
  {
   "cell_type": "code",
   "execution_count": 63,
   "id": "8d6976f7",
   "metadata": {},
   "outputs": [],
   "source": [
    "x = 4\n",
    "y = 9\n",
    "z = 8.3\n",
    "r = -3"
   ]
  },
  {
   "cell_type": "code",
   "execution_count": 64,
   "id": "b3507543",
   "metadata": {},
   "outputs": [
    {
     "data": {
      "text/plain": [
       "True"
      ]
     },
     "execution_count": 64,
     "metadata": {},
     "output_type": "execute_result"
    }
   ],
   "source": [
    "(x<y)"
   ]
  },
  {
   "cell_type": "code",
   "execution_count": 65,
   "id": "5645da3d",
   "metadata": {},
   "outputs": [
    {
     "data": {
      "text/plain": [
       "True"
      ]
     },
     "execution_count": 65,
     "metadata": {},
     "output_type": "execute_result"
    }
   ],
   "source": [
    "(z<y)"
   ]
  },
  {
   "cell_type": "code",
   "execution_count": 66,
   "id": "cfd94328",
   "metadata": {},
   "outputs": [
    {
     "data": {
      "text/plain": [
       "True"
      ]
     },
     "execution_count": 66,
     "metadata": {},
     "output_type": "execute_result"
    }
   ],
   "source": [
    "(x<y) and (z<y) or (r==x)"
   ]
  },
  {
   "cell_type": "markdown",
   "id": "aca9d025",
   "metadata": {},
   "source": [
    "### and is solved first then or is solved for better"
   ]
  },
  {
   "cell_type": "code",
   "execution_count": 67,
   "id": "6a6cc67e",
   "metadata": {},
   "outputs": [
    {
     "data": {
      "text/plain": [
       "True"
      ]
     },
     "execution_count": 67,
     "metadata": {},
     "output_type": "execute_result"
    }
   ],
   "source": [
    "True or False and True"
   ]
  },
  {
   "cell_type": "code",
   "execution_count": 68,
   "id": "5e6e575a",
   "metadata": {},
   "outputs": [
    {
     "name": "stdout",
     "output_type": "stream",
     "text": [
      "False\n"
     ]
    }
   ],
   "source": [
    "print((not(2!=3)) or (False and True))"
   ]
  },
  {
   "cell_type": "markdown",
   "id": "1112ce4a",
   "metadata": {},
   "source": [
    "# Some Useful Functions"
   ]
  },
  {
   "cell_type": "code",
   "execution_count": 69,
   "id": "9831fe1d",
   "metadata": {},
   "outputs": [
    {
     "name": "stdout",
     "output_type": "stream",
     "text": [
      "5\n"
     ]
    }
   ],
   "source": [
    "print(round(4.556))"
   ]
  },
  {
   "cell_type": "markdown",
   "id": "eb88d623",
   "metadata": {},
   "source": [
    "    #### It rounds off to the nearest number"
   ]
  },
  {
   "cell_type": "code",
   "execution_count": 70,
   "id": "38440121",
   "metadata": {},
   "outputs": [
    {
     "name": "stdout",
     "output_type": "stream",
     "text": [
      "4.56\n"
     ]
    }
   ],
   "source": [
    "print(round(4.556,2))"
   ]
  },
  {
   "cell_type": "markdown",
   "id": "7994b98a",
   "metadata": {},
   "source": [
    "    #### It rounds  upto the second decimal place ,i.e the n specified after number"
   ]
  },
  {
   "cell_type": "code",
   "execution_count": 71,
   "id": "22486be6",
   "metadata": {},
   "outputs": [
    {
     "data": {
      "text/plain": [
       "(5, 2)"
      ]
     },
     "execution_count": 71,
     "metadata": {},
     "output_type": "execute_result"
    }
   ],
   "source": [
    " divmod(27,5)"
   ]
  },
  {
   "cell_type": "markdown",
   "id": "0c9fb22c",
   "metadata": {},
   "source": [
    "    #### it reutrns the quotient and the remainder after dividing, (5,2)-->tuple, tuple is one of the four inbuilt data types in the python languague"
   ]
  },
  {
   "cell_type": "code",
   "execution_count": 72,
   "id": "2d372008",
   "metadata": {},
   "outputs": [
    {
     "name": "stdout",
     "output_type": "stream",
     "text": [
      "(3, 7)\n"
     ]
    },
    {
     "data": {
      "text/plain": [
       "tuple"
      ]
     },
     "execution_count": 72,
     "metadata": {},
     "output_type": "execute_result"
    }
   ],
   "source": [
    "G = divmod(34,9)\n",
    "print(G)\n",
    "type(G)"
   ]
  },
  {
   "cell_type": "code",
   "execution_count": 73,
   "id": "af0b2e63",
   "metadata": {},
   "outputs": [
    {
     "name": "stdout",
     "output_type": "stream",
     "text": [
      "Variable               Type     Data/Info\n",
      "-----------------------------------------\n",
      "G                      tuple    n=2\n",
      "a                      bool     True\n",
      "b                      bool     True\n",
      "c                      bool     True\n",
      "d                      bool     False\n",
      "f                      int      -3\n",
      "r                      int      -3\n",
      "s                      str      hellow world\n",
      "s1                     str      hellow\n",
      "s2                     str       world\n",
      "startingTimeOfCourse   float    2.0\n",
      "sumOfAandB             int      8\n",
      "t                      bool     False\n",
      "x                      int      4\n",
      "y                      int      9\n",
      "z                      float    8.3\n"
     ]
    }
   ],
   "source": [
    "%whos"
   ]
  },
  {
   "cell_type": "code",
   "execution_count": 74,
   "id": "155373d1",
   "metadata": {},
   "outputs": [
    {
     "name": "stdout",
     "output_type": "stream",
     "text": [
      "(3, 7)\n"
     ]
    }
   ],
   "source": [
    "print(G)"
   ]
  },
  {
   "cell_type": "markdown",
   "id": "88ce1725",
   "metadata": {},
   "source": [
    "    ####  To access the first element of G wirte G[0], here first element is 3 and second element is 7"
   ]
  },
  {
   "cell_type": "code",
   "execution_count": 75,
   "id": "e7f129d9",
   "metadata": {},
   "outputs": [
    {
     "name": "stdout",
     "output_type": "stream",
     "text": [
      "3\n",
      "7\n"
     ]
    }
   ],
   "source": [
    "print(G[0])\n",
    "print(G[1])"
   ]
  },
  {
   "cell_type": "code",
   "execution_count": 76,
   "id": "16ee6b3e",
   "metadata": {},
   "outputs": [
    {
     "data": {
      "text/plain": [
       "3"
      ]
     },
     "execution_count": 76,
     "metadata": {},
     "output_type": "execute_result"
    }
   ],
   "source": [
    "G[1]\n",
    "G[0]"
   ]
  },
  {
   "cell_type": "markdown",
   "id": "86a33419",
   "metadata": {},
   "source": [
    "    #### if we write like above then we are calling the function and latest function will be printed  i.e G[0]"
   ]
  },
  {
   "cell_type": "markdown",
   "id": "137bf5f2",
   "metadata": {},
   "source": [
    "    #### isinstance( ) returns true, if the first argument is an instance of that class. Multiple classes can also be checked at once."
   ]
  },
  {
   "cell_type": "code",
   "execution_count": 77,
   "id": "044d688d",
   "metadata": {},
   "outputs": [
    {
     "name": "stdout",
     "output_type": "stream",
     "text": [
      "True\n"
     ]
    }
   ],
   "source": [
    "print(isinstance(1,int))"
   ]
  },
  {
   "cell_type": "code",
   "execution_count": 78,
   "id": "7c75160f",
   "metadata": {},
   "outputs": [
    {
     "name": "stdout",
     "output_type": "stream",
     "text": [
      "False\n",
      "True\n"
     ]
    }
   ],
   "source": [
    "print(isinstance(1.0,int))\n",
    "print(isinstance(1.0,(int,float)))"
   ]
  },
  {
   "cell_type": "code",
   "execution_count": 79,
   "id": "abfb2ba7",
   "metadata": {},
   "outputs": [
    {
     "data": {
      "text/plain": [
       "True"
      ]
     },
     "execution_count": 79,
     "metadata": {},
     "output_type": "execute_result"
    }
   ],
   "source": [
    "isinstance(3.4,(float,int))"
   ]
  },
  {
   "cell_type": "code",
   "execution_count": 80,
   "id": "a838eef7",
   "metadata": {},
   "outputs": [
    {
     "data": {
      "text/plain": [
       "True"
      ]
     },
     "execution_count": 80,
     "metadata": {},
     "output_type": "execute_result"
    }
   ],
   "source": [
    "isinstance(2+3j,(int,float,str,complex))"
   ]
  },
  {
   "cell_type": "markdown",
   "id": "6a191a35",
   "metadata": {},
   "source": [
    "### TO calclate power of x to y use (x)^y or pow(x,y), and sometimes pow(x,y,z) is used to find (x^y)%z"
   ]
  },
  {
   "cell_type": "code",
   "execution_count": 81,
   "id": "44c22bce",
   "metadata": {},
   "outputs": [
    {
     "data": {
      "text/plain": [
       "2"
      ]
     },
     "execution_count": 81,
     "metadata": {},
     "output_type": "execute_result"
    }
   ],
   "source": [
    "pow(2,4,7)"
   ]
  },
  {
   "cell_type": "code",
   "execution_count": 82,
   "id": "8a942978",
   "metadata": {},
   "outputs": [
    {
     "data": {
      "text/plain": [
       "16"
      ]
     },
     "execution_count": 82,
     "metadata": {},
     "output_type": "execute_result"
    }
   ],
   "source": [
    "2**4"
   ]
  },
  {
   "cell_type": "markdown",
   "id": "7b71088d",
   "metadata": {},
   "source": [
    "# Taking input from user"
   ]
  },
  {
   "cell_type": "code",
   "execution_count": 99,
   "id": "dedd3560",
   "metadata": {},
   "outputs": [
    {
     "name": "stdout",
     "output_type": "stream",
     "text": [
      "Enter a number :45\n"
     ]
    }
   ],
   "source": [
    "x = input(\"Enter a number :\")"
   ]
  },
  {
   "cell_type": "code",
   "execution_count": 100,
   "id": "0812702a",
   "metadata": {},
   "outputs": [
    {
     "data": {
      "text/plain": [
       "str"
      ]
     },
     "execution_count": 100,
     "metadata": {},
     "output_type": "execute_result"
    }
   ],
   "source": [
    "type(x)"
   ]
  },
  {
   "cell_type": "markdown",
   "id": "0ee5898b",
   "metadata": {},
   "source": [
    "### type of x is str bcoz it recieves input as a sequence of characters"
   ]
  },
  {
   "cell_type": "code",
   "execution_count": 101,
   "id": "c87be28a",
   "metadata": {},
   "outputs": [],
   "source": [
    "x = int(x)"
   ]
  },
  {
   "cell_type": "code",
   "execution_count": 102,
   "id": "7560400b",
   "metadata": {},
   "outputs": [
    {
     "data": {
      "text/plain": [
       "int"
      ]
     },
     "execution_count": 102,
     "metadata": {},
     "output_type": "execute_result"
    }
   ],
   "source": [
    "type(x)"
   ]
  },
  {
   "cell_type": "code",
   "execution_count": 103,
   "id": "13aa32d9",
   "metadata": {},
   "outputs": [
    {
     "name": "stdout",
     "output_type": "stream",
     "text": [
      "11\n"
     ]
    }
   ],
   "source": [
    "print(x-34)"
   ]
  },
  {
   "cell_type": "code",
   "execution_count": 104,
   "id": "27ed53c3",
   "metadata": {},
   "outputs": [
    {
     "name": "stdout",
     "output_type": "stream",
     "text": [
      "Enter a real number :58.645\n"
     ]
    }
   ],
   "source": [
    "a = float(input(\"Enter a real number :\"))"
   ]
  },
  {
   "cell_type": "code",
   "execution_count": 105,
   "id": "25e92218",
   "metadata": {},
   "outputs": [
    {
     "data": {
      "text/plain": [
       "float"
      ]
     },
     "execution_count": 105,
     "metadata": {},
     "output_type": "execute_result"
    }
   ],
   "source": [
    "type(a)"
   ]
  },
  {
   "cell_type": "code",
   "execution_count": 116,
   "id": "1e10cc0d",
   "metadata": {},
   "outputs": [
    {
     "name": "stdout",
     "output_type": "stream",
     "text": [
      "Enter a real number :545.65\n"
     ]
    }
   ],
   "source": [
    "b = float(input(\"Enter a real number :\"))"
   ]
  },
  {
   "cell_type": "markdown",
   "id": "6f31ed8d",
   "metadata": {},
   "source": [
    "### IF you need help or dont know any thing about a particular command then write help(function) or function? ->for gathering info about it and function?? -> for knowing implementation of the function "
   ]
  },
  {
   "cell_type": "code",
   "execution_count": 119,
   "id": "63537c11",
   "metadata": {
    "scrolled": true
   },
   "outputs": [
    {
     "name": "stdout",
     "output_type": "stream",
     "text": [
      "Help on method raw_input in module ipykernel.kernelbase:\n",
      "\n",
      "raw_input(prompt='') method of ipykernel.ipkernel.IPythonKernel instance\n",
      "    Forward raw_input to frontends\n",
      "    \n",
      "    Raises\n",
      "    ------\n",
      "    StdinNotImplementedError if active frontend doesn't support stdin.\n",
      "\n"
     ]
    }
   ],
   "source": [
    "help(input)"
   ]
  },
  {
   "cell_type": "code",
   "execution_count": 120,
   "id": "ec38fc18",
   "metadata": {},
   "outputs": [],
   "source": [
    "input?"
   ]
  },
  {
   "cell_type": "code",
   "execution_count": 121,
   "id": "7bc67ad0",
   "metadata": {},
   "outputs": [],
   "source": [
    "input??"
   ]
  },
  {
   "cell_type": "code",
   "execution_count": 122,
   "id": "dc07366b",
   "metadata": {},
   "outputs": [
    {
     "name": "stdout",
     "output_type": "stream",
     "text": [
      "45\n"
     ]
    }
   ],
   "source": [
    "a = int(input())"
   ]
  },
  {
   "cell_type": "code",
   "execution_count": 124,
   "id": "14757c83",
   "metadata": {},
   "outputs": [
    {
     "name": "stdout",
     "output_type": "stream",
     "text": [
      "45\n",
      "43\n",
      "45\n",
      "i am still inside if conditon\n",
      "i am outside if condition\n"
     ]
    }
   ],
   "source": [
    "a = int(input())\n",
    "b = int(input())\n",
    "if a>b:\n",
    "    print(a)\n",
    "    print(\"i am still inside if conditon\")\n",
    "print(\"i am outside if condition\")    \n"
   ]
  },
  {
   "cell_type": "markdown",
   "id": "d8d6ca05",
   "metadata": {},
   "source": [
    "## the third print is outside the if condition"
   ]
  },
  {
   "cell_type": "code",
   "execution_count": 125,
   "id": "30daba7f",
   "metadata": {},
   "outputs": [
    {
     "name": "stdout",
     "output_type": "stream",
     "text": [
      "42\n",
      "58\n",
      "58\n"
     ]
    }
   ],
   "source": [
    "a = int(input())\n",
    "b = int(input())\n",
    "if a>b:\n",
    "    print(a)\n",
    "if b>a:\n",
    "    print(b)"
   ]
  },
  {
   "cell_type": "code",
   "execution_count": 126,
   "id": "3314199f",
   "metadata": {},
   "outputs": [
    {
     "name": "stdout",
     "output_type": "stream",
     "text": [
      "65\n",
      "77\n",
      "b is greater than a\n"
     ]
    }
   ],
   "source": [
    "a = int(input())\n",
    "b = int(input())\n",
    "if b>a:\n",
    "    print(\"b is greater than a\")\n",
    "else:\n",
    "    \n",
    "    print(\"a is greater than b\")"
   ]
  },
  {
   "cell_type": "code",
   "execution_count": 127,
   "id": "61144fdf",
   "metadata": {},
   "outputs": [
    {
     "name": "stdout",
     "output_type": "stream",
     "text": [
      "b is greater than a\n"
     ]
    }
   ],
   "source": [
    "a = 1\n",
    "b = 5\n",
    "if a==b:\n",
    "    print(\"Equal\")\n",
    "elif a>b:\n",
    "    print(\"a is greater than b\")\n",
    "else:\n",
    "    print(\"b is greater than a\")"
   ]
  },
  {
   "cell_type": "code",
   "execution_count": 128,
   "id": "c55e3529",
   "metadata": {},
   "outputs": [
    {
     "name": "stdout",
     "output_type": "stream",
     "text": [
      "Enter Marks77\n",
      "C Grade\n",
      "congragulations for passing\n"
     ]
    }
   ],
   "source": [
    "a = int(input(\"Enter Marks\"))\n",
    "if a>= 85:\n",
    "    print(\"A Grade\")\n",
    "elif (a < 85) and (a >= 80):\n",
    "    print(\"B Grade\")\n",
    "    print(\"congragulations for passing\")\n",
    "elif (a >= 75) and (a < 80):\n",
    "    print(\"C Grade\")\n",
    "    print(\"congragulations for passing\")\n",
    "elif (a < 75) and (a >= 70):\n",
    "    print(\"D Grade\")\n",
    "    print(\"congragulations for passing\")\n",
    "elif (a < 70) and (a >=65):\n",
    "    print(\"E Grade\")\n",
    "    print(\"congragulations for passing\")\n",
    "elif (a < 65) and (a >= 60):\n",
    "    print(\"F Grade\")\n",
    "    print(\"Better Luck next time\")"
   ]
  },
  {
   "cell_type": "code",
   "execution_count": 129,
   "id": "ff1b5b60",
   "metadata": {},
   "outputs": [
    {
     "name": "stdout",
     "output_type": "stream",
     "text": [
      "Enter Number:15\n",
      "your number is above 10\n",
      "but not above 20\n",
      "outside if condition\n"
     ]
    }
   ],
   "source": [
    "x = int(input(\"Enter Number:\"))\n",
    "\n",
    "if x > 10:\n",
    "    print(\"your number is above 10\")\n",
    "    if x > 20:\n",
    "        print(\"and also above 20\")\n",
    "    else:\n",
    "        print(\"but not above 20\")\n",
    "print(\"outside if condition\")"
   ]
  },
  {
   "cell_type": "code",
   "execution_count": 130,
   "id": "68782821",
   "metadata": {},
   "outputs": [
    {
     "name": "stdout",
     "output_type": "stream",
     "text": [
      "<10\n"
     ]
    }
   ],
   "source": [
    "a = 3\n",
    "if a > 10:\n",
    "    print(\">10\")\n",
    "elif a<10:\n",
    "    print(\"<10\")"
   ]
  },
  {
   "cell_type": "markdown",
   "id": "e2678ce9",
   "metadata": {},
   "source": [
    "# Nested If else"
   ]
  },
  {
   "cell_type": "markdown",
   "id": "7b40193d",
   "metadata": {},
   "source": [
    "### It is indentation(proper alingnment**) that decides which part belongs to what kind of block or structure, the entire meanig of code will change if you don' care about it in PYTHON."
   ]
  },
  {
   "cell_type": "code",
   "execution_count": 131,
   "id": "26220f63",
   "metadata": {},
   "outputs": [
    {
     "name": "stdout",
     "output_type": "stream",
     "text": [
      "Enter a real number:3458.785\n",
      "3458\n",
      "3458\n",
      "number is even\n"
     ]
    }
   ],
   "source": [
    "# for single line comment\n",
    "\"\"\" \n",
    "for multiline comment\n",
    "\"\"\"\n",
    "\"\"\"User will enter a floating point number let say 238.915.Your task is to find out integer\n",
    "number before the point(in this case 238), and then check whether number is even or not?\n",
    "\"\"\"\n",
    "x = float(input(\"Enter a real number:\"))\n",
    "if x > 0:\n",
    "    y = round(x)\n",
    "    if y > x:\n",
    "        intPortion = y - 1\n",
    "    else:\n",
    "        intPortion = y\n",
    "    print(intPortion)\n",
    "else:\n",
    "    y = round(x)\n",
    "    if y < x:\n",
    "        intPortion = y + 1\n",
    "    else:\n",
    "        intPortion = y\n",
    "print(intPortion)\n",
    "if intPortion%2 == 0:\n",
    "    print(\"number is even\")\n",
    "else:\n",
    "    print(\"number is not even\")\n"
   ]
  },
  {
   "cell_type": "markdown",
   "id": "531296e6",
   "metadata": {},
   "source": [
    "# Loops"
   ]
  },
  {
   "cell_type": "markdown",
   "id": "b22bc0ed",
   "metadata": {},
   "source": [
    "## WHILE LOOP"
   ]
  },
  {
   "cell_type": "markdown",
   "id": "9d725966",
   "metadata": {},
   "source": [
    "    #### till the condition inside while is true it will be executed again and again and after that it will moov to next block"
   ]
  },
  {
   "cell_type": "code",
   "execution_count": 132,
   "id": "c7d2f227",
   "metadata": {},
   "outputs": [
    {
     "name": "stdout",
     "output_type": "stream",
     "text": [
      "Enter the number:5\n",
      "1\n",
      "this is iteration number : 1\n",
      "4\n",
      "this is iteration number : 2\n",
      "9\n",
      "this is iteration number : 3\n",
      "16\n",
      "this is iteration number : 4\n",
      "25\n",
      "this is iteration number : 5\n",
      "loop done, outside while loop\n"
     ]
    }
   ],
   "source": [
    "n = int(input(\"Enter the number:\"))\n",
    "i = 1\n",
    "while i<=n:\n",
    "    print(i**2)\n",
    "    print(\"this is iteration number :\", i)\n",
    "    i += 1 #same as i = i+1\n",
    "print(\"loop done, outside while loop\")"
   ]
  },
  {
   "cell_type": "code",
   "execution_count": 137,
   "id": "a1a778af",
   "metadata": {},
   "outputs": [
    {
     "name": "stdout",
     "output_type": "stream",
     "text": [
      "Max iterations:5\n",
      "2\n",
      "4\n",
      "done\n"
     ]
    }
   ],
   "source": [
    "n = int(input(\"Max iterations:\"))\n",
    "i = 1\n",
    "while i < n:\n",
    "    if (i%2 == 0):\n",
    "        print(i)\n",
    "    else:\n",
    "        pass #means do nothing, it could even be omitted,it is just written for sake of\n",
    "             #readability\n",
    "    i += 1 #increment i\n",
    "print(\"done\")"
   ]
  },
  {
   "cell_type": "code",
   "execution_count": 138,
   "id": "90ba79f2",
   "metadata": {},
   "outputs": [
    {
     "name": "stdout",
     "output_type": "stream",
     "text": [
      "max iterations:4\n",
      "done\n"
     ]
    }
   ],
   "source": [
    "n = int(input(\"max iterations:\"))\n",
    "i = 1\n",
    "while i <= n:\n",
    "    if (i%17 == 0):\n",
    "        print(\"this is the iteration number:\", i)\n",
    "        print('break')\n",
    "        break #break immediately exits the loop and get out of its body, no further\n",
    "              #no code will be run after break command of the loop\n",
    "    else:\n",
    "        pass #means do nothing, it could even be omitted,it is just written for sake of\n",
    "             #readability\n",
    "    i += 1 #increment i\n",
    "print(\"done\")"
   ]
  },
  {
   "cell_type": "markdown",
   "id": "e257f543",
   "metadata": {},
   "source": [
    "## Break Statement ^|"
   ]
  },
  {
   "cell_type": "markdown",
   "id": "ad33bfe4",
   "metadata": {},
   "source": [
    "## CONTINUE"
   ]
  },
  {
   "cell_type": "markdown",
   "id": "0860fd4b",
   "metadata": {},
   "source": [
    "    #### continue will skip the codes after which it is written and again start the iteration"
   ]
  },
  {
   "cell_type": "code",
   "execution_count": 139,
   "id": "d3d71717",
   "metadata": {},
   "outputs": [
    {
     "name": "stdout",
     "output_type": "stream",
     "text": [
      "inside else\n",
      "inside else\n",
      "inside else\n",
      "inside else\n",
      "inside else\n",
      "inside else\n",
      "inside else\n",
      "inside else\n",
      "inside if\n",
      "done\n"
     ]
    }
   ],
   "source": [
    "n = 10\n",
    "i = 1\n",
    "while True:\n",
    "    if i%9 == 0:\n",
    "                print(\"inside if\")\n",
    "                break\n",
    "    else:\n",
    "        print(\"inside else\") \n",
    "        i += 1 #i = i + 1\n",
    "         \n",
    "print(\"done\")"
   ]
  },
  {
   "cell_type": "markdown",
   "id": "f97ad312",
   "metadata": {},
   "source": [
    "    #### no command is run after break"
   ]
  },
  {
   "cell_type": "code",
   "execution_count": 140,
   "id": "4163a1d1",
   "metadata": {
    "scrolled": true
   },
   "outputs": [
    {
     "name": "stdout",
     "output_type": "stream",
     "text": [
      "inside if\n",
      "inside if\n",
      "inside if\n",
      "inside if\n",
      "inside if\n",
      "inside if\n",
      "inside if\n",
      "inside if\n",
      "outside if\n",
      "this is iteration number: 9\n",
      "something\n",
      "somethingelse\n",
      "done\n"
     ]
    }
   ],
   "source": [
    "n = 10\n",
    "i = 1\n",
    "while True:\n",
    "    if i%9 != 0:\n",
    "        print(\"inside if\")\n",
    "        i += 1 \n",
    "        continue\n",
    "    print(\"outside if\")    \n",
    "    print(\"this is iteration number:\", i)\n",
    "    print(\"something\")\n",
    "    print(\"somethingelse\")\n",
    "    break\n",
    "            \n",
    "\n",
    "print(\"done\")"
   ]
  },
  {
   "cell_type": "markdown",
   "id": "b8ab2bf0",
   "metadata": {},
   "source": [
    "    #### continue skips the content after it and executes the same loop until the condition becomes false"
   ]
  },
  {
   "cell_type": "code",
   "execution_count": null,
   "id": "6ba5e19d",
   "metadata": {},
   "outputs": [],
   "source": []
  }
 ],
 "metadata": {
  "kernelspec": {
   "display_name": "Python 3 (ipykernel)",
   "language": "python",
   "name": "python3"
  },
  "language_info": {
   "codemirror_mode": {
    "name": "ipython",
    "version": 3
   },
   "file_extension": ".py",
   "mimetype": "text/x-python",
   "name": "python",
   "nbconvert_exporter": "python",
   "pygments_lexer": "ipython3",
   "version": "3.9.13"
  }
 },
 "nbformat": 4,
 "nbformat_minor": 5
}
